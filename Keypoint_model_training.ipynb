{
 "cells": [
  {
   "cell_type": "code",
   "execution_count": 1,
   "metadata": {
    "id": "igMyGnjE9hEp"
   },
   "outputs": [],
   "source": [
    "import csv\n",
    "\n",
    "import numpy as np\n",
    "import pandas as pd\n",
    "import tensorflow as tf\n",
    "from sklearn.model_selection import train_test_split\n",
    "\n",
    "RANDOM_SEED = 42"
   ]
  },
  {
   "cell_type": "markdown",
   "metadata": {
    "id": "t2HDvhIu9hEr"
   },
   "source": [
    "# Specify each path"
   ]
  },
  {
   "cell_type": "code",
   "execution_count": 2,
   "metadata": {
    "id": "9NvZP2Zn9hEy"
   },
   "outputs": [],
   "source": [
    "# Specify data paths\n",
    "dataset = 'model/keypoint_classifier/keypoint.csv'\n",
    "model_save_path = 'model/keypoint_classifier/keypoint_classifier.hdf5'\n",
    "tflite_save_path = 'model/keypoint_classifier/keypoint_classifier.tflite'"
   ]
  },
  {
   "cell_type": "markdown",
   "metadata": {
    "id": "s5oMH7x19hEz"
   },
   "source": [
    "# Set number of classes"
   ]
  },
  {
   "cell_type": "code",
   "execution_count": 3,
   "metadata": {
    "id": "du4kodXL9hEz"
   },
   "outputs": [],
   "source": [
    "# Change training classes if necessary\n",
    "NUM_CLASSES = 8"
   ]
  },
  {
   "cell_type": "markdown",
   "metadata": {
    "id": "XjnL0uso9hEz"
   },
   "source": [
    "# Dataset reading"
   ]
  },
  {
   "cell_type": "code",
   "execution_count": 4,
   "metadata": {
    "id": "QT5ZqtEz9hE0"
   },
   "outputs": [],
   "source": [
    "X_dataset = np.loadtxt(dataset, delimiter=',', dtype='float32', usecols=list(range(1, (21 * 2) + 1)))"
   ]
  },
  {
   "cell_type": "code",
   "execution_count": 5,
   "metadata": {
    "id": "QmoKFsp49hE0"
   },
   "outputs": [],
   "source": [
    "y_dataset = np.loadtxt(dataset, delimiter=',', dtype='int32', usecols=(0))"
   ]
  },
  {
   "cell_type": "code",
   "execution_count": 6,
   "metadata": {
    "id": "xQU7JTZ_9hE0"
   },
   "outputs": [],
   "source": [
    "X_train, X_test, y_train, y_test = train_test_split(X_dataset, y_dataset, train_size=0.75, random_state=RANDOM_SEED)"
   ]
  },
  {
   "cell_type": "code",
   "execution_count": 7,
   "metadata": {
    "colab": {
     "base_uri": "https://localhost:8080/",
     "height": 279
    },
    "id": "xElG5FoPDQO9",
    "outputId": "2ef372ed-62e3-49c1-ad36-a5b5dc76701a"
   },
   "outputs": [
    {
     "name": "stdout",
     "output_type": "stream",
     "text": [
      "(array([0, 1, 2, 3, 4, 5, 6, 7]), array([1595, 1663, 1510,  672,  164,  257,  139,  190], dtype=int64))\n"
     ]
    },
    {
     "data": {
      "image/png": "[encoded data removed]",
      "text/plain": [
       "<Figure size 432x288 with 1 Axes>"
      ]
     },
     "metadata": {
      "needs_background": "light"
     },
     "output_type": "display_data"
    }
   ],
   "source": [
    "# Classes count\n",
    "counts = np.unique(y_dataset, return_counts=True)\n",
    "df = pd.DataFrame(counts)\n",
    "df.T.plot(kind=\"bar\", stacked=True)\n",
    "print(counts)"
   ]
  },
  {
   "cell_type": "markdown",
   "metadata": {
    "id": "mxK_lETT9hE0"
   },
   "source": [
    "# Model building"
   ]
  },
  {
   "cell_type": "code",
   "execution_count": 8,
   "metadata": {
    "id": "vHBmUf1t9hE1"
   },
   "outputs": [],
   "source": [
    "model = tf.keras.models.Sequential([\n",
    "    tf.keras.layers.Input((21 * 2, )),\n",
    "    tf.keras.layers.Dropout(0.0),\n",
    "    tf.keras.layers.Dense(32, activation='relu'),\n",
    "    tf.keras.layers.Dropout(0.0),\n",
    "    tf.keras.layers.Dense(32, activation='relu'),\n",
    "    tf.keras.layers.Dropout(0.0),\n",
    "    tf.keras.layers.Dense(16, activation='relu'),\n",
    "    tf.keras.layers.Dense(NUM_CLASSES, activation='softmax')\n",
    "])"
   ]
  },
  {
   "cell_type": "code",
   "execution_count": 9,
   "metadata": {
    "colab": {
     "base_uri": "https://localhost:8080/"
    },
    "id": "ypqky9tc9hE1",
    "outputId": "c42f3550-ceee-45b8-d40d-d99fd84a2616"
   },
   "outputs": [
    {
     "name": "stdout",
     "output_type": "stream",
     "text": [
      "Model: \"sequential\"\n",
      "_________________________________________________________________\n",
      " Layer (type)                Output Shape              Param #   \n",
      "=================================================================\n",
      " dropout (Dropout)           (None, 42)                0         \n",
      "                                                                 \n",
      " dense (Dense)               (None, 32)                1376      \n",
      "                                                                 \n",
      " dropout_1 (Dropout)         (None, 32)                0         \n",
      "                                                                 \n",
      " dense_1 (Dense)             (None, 32)                1056      \n",
      "                                                                 \n",
      " dropout_2 (Dropout)         (None, 32)                0         \n",
      "                                                                 \n",
      " dense_2 (Dense)             (None, 16)                528       \n",
      "                                                                 \n",
      " dense_3 (Dense)             (None, 8)                 136       \n",
      "                                                                 \n",
      "=================================================================\n",
      "Total params: 3,096\n",
      "Trainable params: 3,096\n",
      "Non-trainable params: 0\n",
      "_________________________________________________________________\n"
     ]
    }
   ],
   "source": [
    "model.summary()  # tf.keras.utils.plot_model(model, show_shapes=True)"
   ]
  },
  {
   "cell_type": "code",
   "execution_count": 10,
   "metadata": {
    "id": "MbMjOflQ9hE1"
   },
   "outputs": [],
   "source": [
    "# Model checkpoint callback\n",
    "cp_callback = tf.keras.callbacks.ModelCheckpoint(\n",
    "    model_save_path, verbose=1, save_weights_only=False, save_best_only=True)\n",
    "# Callback for early stopping\n",
    "es_callback = tf.keras.callbacks.EarlyStopping(patience=50, verbose=1)"
   ]
  },
  {
   "cell_type": "code",
   "execution_count": 11,
   "metadata": {
    "id": "c3Dac0M_9hE2"
   },
   "outputs": [],
   "source": [
    "# Model compilation\n",
    "model.compile(\n",
    "    optimizer='adam',\n",
    "    loss='sparse_categorical_crossentropy',\n",
    "    metrics=['accuracy']\n",
    ")"
   ]
  },
  {
   "cell_type": "markdown",
   "metadata": {
    "id": "7XI0j1Iu9hE2"
   },
   "source": [
    "# Model training"
   ]
  },
  {
   "cell_type": "code",
   "execution_count": 12,
   "metadata": {
    "id": "WirBl-JE9hE3",
    "scrolled": true
   },
   "outputs": [
    {
     "name": "stdout",
     "output_type": "stream",
     "text": [
      "Epoch 1/1000\n",
      "65/73 [=========================>....] - ETA: 0s - loss: 1.6958 - accuracy: 0.2603\n",
      "Epoch 00001: val_loss improved from inf to 1.33682, saving model to model/keypoint_classifier\\keypoint_classifier.hdf5\n",
      "73/73 [==============================] - 2s 13ms/step - loss: 1.6616 - accuracy: 0.2826 - val_loss: 1.3368 - val_accuracy: 0.5058\n",
      "Epoch 2/1000\n",
      "65/73 [=========================>....] - ETA: 0s - loss: 1.1091 - accuracy: 0.6538\n",
      "Epoch 00002: val_loss improved from 1.33682 to 0.74494, saving model to model/keypoint_classifier\\keypoint_classifier.hdf5\n",
      "73/73 [==============================] - 0s 6ms/step - loss: 1.0788 - accuracy: 0.6678 - val_loss: 0.7449 - val_accuracy: 0.7823\n",
      "Epoch 3/1000\n",
      "66/73 [==========================>...] - ETA: 0s - loss: 0.6053 - accuracy: 0.8018\n",
      "Epoch 00003: val_loss improved from 0.74494 to 0.41719, saving model to model/keypoint_classifier\\keypoint_classifier.hdf5\n",
      "73/73 [==============================] - 0s 6ms/step - loss: 0.5877 - accuracy: 0.8074 - val_loss: 0.4172 - val_accuracy: 0.8585\n",
      "Epoch 4/1000\n",
      "64/73 [=========================>....] - ETA: 0s - loss: 0.3763 - accuracy: 0.8889\n",
      "Epoch 00004: val_loss improved from 0.41719 to 0.28738, saving model to model/keypoint_classifier\\keypoint_classifier.hdf5\n",
      "73/73 [==============================] - 0s 6ms/step - loss: 0.3696 - accuracy: 0.8914 - val_loss: 0.2874 - val_accuracy: 0.9238\n",
      "Epoch 5/1000\n",
      "71/73 [============================>.] - ETA: 0s - loss: 0.2659 - accuracy: 0.9349\n",
      "Epoch 00005: val_loss improved from 0.28738 to 0.21617, saving model to model/keypoint_classifier\\keypoint_classifier.hdf5\n",
      "73/73 [==============================] - 0s 5ms/step - loss: 0.2651 - accuracy: 0.9354 - val_loss: 0.2162 - val_accuracy: 0.9470\n",
      "Epoch 6/1000\n",
      "70/73 [===========================>..] - ETA: 0s - loss: 0.2110 - accuracy: 0.9507\n",
      "Epoch 00006: val_loss improved from 0.21617 to 0.16636, saving model to model/keypoint_classifier\\keypoint_classifier.hdf5\n",
      "73/73 [==============================] - 0s 6ms/step - loss: 0.2100 - accuracy: 0.9507 - val_loss: 0.1664 - val_accuracy: 0.9671\n",
      "Epoch 7/1000\n",
      "66/73 [==========================>...] - ETA: 0s - loss: 0.1752 - accuracy: 0.9567\n",
      "Epoch 00007: val_loss improved from 0.16636 to 0.14240, saving model to model/keypoint_classifier\\keypoint_classifier.hdf5\n",
      "73/73 [==============================] - 0s 6ms/step - loss: 0.1732 - accuracy: 0.9567 - val_loss: 0.1424 - val_accuracy: 0.9735\n",
      "Epoch 8/1000\n",
      "67/73 [==========================>...] - ETA: 0s - loss: 0.1517 - accuracy: 0.9620\n",
      "Epoch 00008: val_loss improved from 0.14240 to 0.12446, saving model to model/keypoint_classifier\\keypoint_classifier.hdf5\n",
      "73/73 [==============================] - 0s 5ms/step - loss: 0.1515 - accuracy: 0.9619 - val_loss: 0.1245 - val_accuracy: 0.9767\n",
      "Epoch 9/1000\n",
      "67/73 [==========================>...] - ETA: 0s - loss: 0.1320 - accuracy: 0.9688\n",
      "Epoch 00009: val_loss improved from 0.12446 to 0.09792, saving model to model/keypoint_classifier\\keypoint_classifier.hdf5\n",
      "73/73 [==============================] - 0s 5ms/step - loss: 0.1294 - accuracy: 0.9696 - val_loss: 0.0979 - val_accuracy: 0.9826\n",
      "Epoch 10/1000\n",
      "67/73 [==========================>...] - ETA: 0s - loss: 0.1114 - accuracy: 0.9736\n",
      "Epoch 00010: val_loss improved from 0.09792 to 0.08826, saving model to model/keypoint_classifier\\keypoint_classifier.hdf5\n",
      "73/73 [==============================] - 0s 6ms/step - loss: 0.1129 - accuracy: 0.9722 - val_loss: 0.0883 - val_accuracy: 0.9813\n",
      "Epoch 11/1000\n",
      "70/73 [===========================>..] - ETA: 0s - loss: 0.1000 - accuracy: 0.9757\n",
      "Epoch 00011: val_loss improved from 0.08826 to 0.07698, saving model to model/keypoint_classifier\\keypoint_classifier.hdf5\n",
      "73/73 [==============================] - 0s 5ms/step - loss: 0.0994 - accuracy: 0.9754 - val_loss: 0.0770 - val_accuracy: 0.9858\n",
      "Epoch 12/1000\n",
      "56/73 [======================>.......] - ETA: 0s - loss: 0.0915 - accuracy: 0.9768\n",
      "Epoch 00012: val_loss improved from 0.07698 to 0.07273, saving model to model/keypoint_classifier\\keypoint_classifier.hdf5\n",
      "73/73 [==============================] - 0s 5ms/step - loss: 0.0917 - accuracy: 0.9769 - val_loss: 0.0727 - val_accuracy: 0.9871\n",
      "Epoch 13/1000\n",
      "65/73 [=========================>....] - ETA: 0s - loss: 0.0802 - accuracy: 0.9825\n",
      "Epoch 00013: val_loss improved from 0.07273 to 0.06587, saving model to model/keypoint_classifier\\keypoint_classifier.hdf5\n",
      "73/73 [==============================] - 0s 6ms/step - loss: 0.0806 - accuracy: 0.9819 - val_loss: 0.0659 - val_accuracy: 0.9864\n",
      "Epoch 14/1000\n",
      "67/73 [==========================>...] - ETA: 0s - loss: 0.0718 - accuracy: 0.9841\n",
      "Epoch 00014: val_loss improved from 0.06587 to 0.06225, saving model to model/keypoint_classifier\\keypoint_classifier.hdf5\n",
      "73/73 [==============================] - 0s 6ms/step - loss: 0.0722 - accuracy: 0.9838 - val_loss: 0.0623 - val_accuracy: 0.9858\n",
      "Epoch 15/1000\n",
      "69/73 [===========================>..] - ETA: 0s - loss: 0.0674 - accuracy: 0.9862\n",
      "Epoch 00015: val_loss improved from 0.06225 to 0.05675, saving model to model/keypoint_classifier\\keypoint_classifier.hdf5\n",
      "73/73 [==============================] - 0s 6ms/step - loss: 0.0675 - accuracy: 0.9858 - val_loss: 0.0567 - val_accuracy: 0.9897\n",
      "Epoch 16/1000\n",
      "55/73 [=====================>........] - ETA: 0s - loss: 0.0624 - accuracy: 0.9861\n",
      "Epoch 00016: val_loss did not improve from 0.05675\n",
      "73/73 [==============================] - 0s 5ms/step - loss: 0.0624 - accuracy: 0.9856 - val_loss: 0.0581 - val_accuracy: 0.9877\n",
      "Epoch 17/1000\n",
      "65/73 [=========================>....] - ETA: 0s - loss: 0.0621 - accuracy: 0.9856\n",
      "Epoch 00017: val_loss improved from 0.05675 to 0.04938, saving model to model/keypoint_classifier\\keypoint_classifier.hdf5\n",
      "73/73 [==============================] - 0s 4ms/step - loss: 0.0595 - accuracy: 0.9864 - val_loss: 0.0494 - val_accuracy: 0.9910\n",
      "Epoch 18/1000\n",
      "56/73 [======================>.......] - ETA: 0s - loss: 0.0536 - accuracy: 0.9874\n",
      "Epoch 00018: val_loss did not improve from 0.04938\n",
      "73/73 [==============================] - 0s 4ms/step - loss: 0.0533 - accuracy: 0.9888 - val_loss: 0.0505 - val_accuracy: 0.9903\n",
      "Epoch 19/1000\n",
      "64/73 [=========================>....] - ETA: 0s - loss: 0.0474 - accuracy: 0.9902\n",
      "Epoch 00019: val_loss improved from 0.04938 to 0.04443, saving model to model/keypoint_classifier\\keypoint_classifier.hdf5\n",
      "73/73 [==============================] - 0s 6ms/step - loss: 0.0480 - accuracy: 0.9905 - val_loss: 0.0444 - val_accuracy: 0.9910\n",
      "Epoch 20/1000\n",
      "73/73 [==============================] - ETA: 0s - loss: 0.0480 - accuracy: 0.9894\n",
      "Epoch 00020: val_loss improved from 0.04443 to 0.03907, saving model to model/keypoint_classifier\\keypoint_classifier.hdf5\n",
      "73/73 [==============================] - 0s 5ms/step - loss: 0.0480 - accuracy: 0.9894 - val_loss: 0.0391 - val_accuracy: 0.9897\n",
      "Epoch 21/1000\n",
      "58/73 [======================>.......] - ETA: 0s - loss: 0.0415 - accuracy: 0.9930\n",
      "Epoch 00021: val_loss improved from 0.03907 to 0.03822, saving model to model/keypoint_classifier\\keypoint_classifier.hdf5\n",
      "73/73 [==============================] - 0s 5ms/step - loss: 0.0415 - accuracy: 0.9925 - val_loss: 0.0382 - val_accuracy: 0.9916\n",
      "Epoch 22/1000\n",
      "72/73 [============================>.] - ETA: 0s - loss: 0.0389 - accuracy: 0.9922\n",
      "Epoch 00022: val_loss did not improve from 0.03822\n",
      "73/73 [==============================] - 0s 5ms/step - loss: 0.0387 - accuracy: 0.9922 - val_loss: 0.0518 - val_accuracy: 0.9877\n",
      "Epoch 23/1000\n",
      "70/73 [===========================>..] - ETA: 0s - loss: 0.0379 - accuracy: 0.9913\n",
      "Epoch 00023: val_loss improved from 0.03822 to 0.03133, saving model to model/keypoint_classifier\\keypoint_classifier.hdf5\n",
      "73/73 [==============================] - 0s 6ms/step - loss: 0.0387 - accuracy: 0.9910 - val_loss: 0.0313 - val_accuracy: 0.9916\n",
      "Epoch 24/1000\n",
      "72/73 [============================>.] - ETA: 0s - loss: 0.0377 - accuracy: 0.9915\n",
      "Epoch 00024: val_loss did not improve from 0.03133\n",
      "73/73 [==============================] - 0s 4ms/step - loss: 0.0375 - accuracy: 0.9916 - val_loss: 0.0334 - val_accuracy: 0.9910\n",
      "Epoch 25/1000\n",
      "70/73 [===========================>..] - ETA: 0s - loss: 0.0319 - accuracy: 0.9942\n",
      "Epoch 00025: val_loss improved from 0.03133 to 0.02848, saving model to model/keypoint_classifier\\keypoint_classifier.hdf5\n",
      "73/73 [==============================] - 0s 5ms/step - loss: 0.0318 - accuracy: 0.9942 - val_loss: 0.0285 - val_accuracy: 0.9929\n",
      "Epoch 26/1000\n",
      "69/73 [===========================>..] - ETA: 0s - loss: 0.0319 - accuracy: 0.9937\n",
      "Epoch 00026: val_loss improved from 0.02848 to 0.02661, saving model to model/keypoint_classifier\\keypoint_classifier.hdf5\n",
      "73/73 [==============================] - 0s 6ms/step - loss: 0.0313 - accuracy: 0.9938 - val_loss: 0.0266 - val_accuracy: 0.9935\n",
      "Epoch 27/1000\n",
      "60/73 [=======================>......] - ETA: 0s - loss: 0.0289 - accuracy: 0.9945\n",
      "Epoch 00027: val_loss improved from 0.02661 to 0.02654, saving model to model/keypoint_classifier\\keypoint_classifier.hdf5\n",
      "73/73 [==============================] - 0s 7ms/step - loss: 0.0292 - accuracy: 0.9942 - val_loss: 0.0265 - val_accuracy: 0.9935\n",
      "Epoch 28/1000\n",
      "63/73 [========================>.....] - ETA: 0s - loss: 0.0275 - accuracy: 0.9943\n",
      "Epoch 00028: val_loss improved from 0.02654 to 0.02431, saving model to model/keypoint_classifier\\keypoint_classifier.hdf5\n",
      "73/73 [==============================] - 0s 6ms/step - loss: 0.0271 - accuracy: 0.9942 - val_loss: 0.0243 - val_accuracy: 0.9942\n",
      "Epoch 29/1000\n",
      "58/73 [======================>.......] - ETA: 0s - loss: 0.0241 - accuracy: 0.9957\n",
      "Epoch 00029: val_loss improved from 0.02431 to 0.02256, saving model to model/keypoint_classifier\\keypoint_classifier.hdf5\n",
      "73/73 [==============================] - 0s 5ms/step - loss: 0.0252 - accuracy: 0.9953 - val_loss: 0.0226 - val_accuracy: 0.9935\n",
      "Epoch 30/1000\n",
      "66/73 [==========================>...] - ETA: 0s - loss: 0.0245 - accuracy: 0.9953\n",
      "Epoch 00030: val_loss did not improve from 0.02256\n",
      "73/73 [==============================] - 0s 5ms/step - loss: 0.0241 - accuracy: 0.9953 - val_loss: 0.0231 - val_accuracy: 0.9929\n",
      "Epoch 31/1000\n",
      "70/73 [===========================>..] - ETA: 0s - loss: 0.0232 - accuracy: 0.9953\n",
      "Epoch 00031: val_loss improved from 0.02256 to 0.02192, saving model to model/keypoint_classifier\\keypoint_classifier.hdf5\n",
      "73/73 [==============================] - 0s 6ms/step - loss: 0.0229 - accuracy: 0.9955 - val_loss: 0.0219 - val_accuracy: 0.9948\n",
      "Epoch 32/1000\n",
      "68/73 [==========================>...] - ETA: 0s - loss: 0.0212 - accuracy: 0.9954\n",
      "Epoch 00032: val_loss improved from 0.02192 to 0.02136, saving model to model/keypoint_classifier\\keypoint_classifier.hdf5\n",
      "73/73 [==============================] - 0s 6ms/step - loss: 0.0213 - accuracy: 0.9955 - val_loss: 0.0214 - val_accuracy: 0.9968\n",
      "Epoch 33/1000\n",
      "70/73 [===========================>..] - ETA: 0s - loss: 0.0232 - accuracy: 0.9951\n",
      "Epoch 00033: val_loss improved from 0.02136 to 0.02004, saving model to model/keypoint_classifier\\keypoint_classifier.hdf5\n",
      "73/73 [==============================] - 0s 6ms/step - loss: 0.0232 - accuracy: 0.9950 - val_loss: 0.0200 - val_accuracy: 0.9948\n",
      "Epoch 34/1000\n",
      "66/73 [==========================>...] - ETA: 0s - loss: 0.0190 - accuracy: 0.9953\n",
      "Epoch 00034: val_loss did not improve from 0.02004\n",
      "73/73 [==============================] - 0s 5ms/step - loss: 0.0201 - accuracy: 0.9950 - val_loss: 0.0284 - val_accuracy: 0.9922\n",
      "Epoch 35/1000\n",
      "66/73 [==========================>...] - ETA: 0s - loss: 0.0192 - accuracy: 0.9964\n",
      "Epoch 00035: val_loss improved from 0.02004 to 0.01588, saving model to model/keypoint_classifier\\keypoint_classifier.hdf5\n",
      "73/73 [==============================] - 0s 6ms/step - loss: 0.0195 - accuracy: 0.9961 - val_loss: 0.0159 - val_accuracy: 0.9961\n",
      "Epoch 36/1000\n",
      "72/73 [============================>.] - ETA: 0s - loss: 0.0198 - accuracy: 0.9961\n",
      "Epoch 00036: val_loss did not improve from 0.01588\n",
      "73/73 [==============================] - 0s 4ms/step - loss: 0.0199 - accuracy: 0.9961 - val_loss: 0.0224 - val_accuracy: 0.9935\n",
      "Epoch 37/1000\n",
      "60/73 [=======================>......] - ETA: 0s - loss: 0.0203 - accuracy: 0.9961\n",
      "Epoch 00037: val_loss did not improve from 0.01588\n",
      "73/73 [==============================] - 0s 5ms/step - loss: 0.0201 - accuracy: 0.9961 - val_loss: 0.0163 - val_accuracy: 0.9968\n",
      "Epoch 38/1000\n",
      "68/73 [==========================>...] - ETA: 0s - loss: 0.0160 - accuracy: 0.9968\n",
      "Epoch 00038: val_loss did not improve from 0.01588\n",
      "73/73 [==============================] - 0s 5ms/step - loss: 0.0165 - accuracy: 0.9966 - val_loss: 0.0188 - val_accuracy: 0.9955\n",
      "Epoch 39/1000\n",
      "71/73 [============================>.] - ETA: 0s - loss: 0.0170 - accuracy: 0.9963\n",
      "Epoch 00039: val_loss did not improve from 0.01588\n",
      "73/73 [==============================] - 0s 4ms/step - loss: 0.0168 - accuracy: 0.9963 - val_loss: 0.0163 - val_accuracy: 0.9948\n",
      "Epoch 40/1000\n",
      "72/73 [============================>.] - ETA: 0s - loss: 0.0143 - accuracy: 0.9965\n",
      "Epoch 00040: val_loss did not improve from 0.01588\n",
      "73/73 [==============================] - 0s 4ms/step - loss: 0.0142 - accuracy: 0.9966 - val_loss: 0.0166 - val_accuracy: 0.9948\n",
      "Epoch 41/1000\n",
      "64/73 [=========================>....] - ETA: 0s - loss: 0.0149 - accuracy: 0.9973\n",
      "Epoch 00041: val_loss improved from 0.01588 to 0.01397, saving model to model/keypoint_classifier\\keypoint_classifier.hdf5\n",
      "73/73 [==============================] - 0s 6ms/step - loss: 0.0161 - accuracy: 0.9970 - val_loss: 0.0140 - val_accuracy: 0.9961\n",
      "Epoch 42/1000\n",
      "56/73 [======================>.......] - ETA: 0s - loss: 0.0179 - accuracy: 0.9961\n",
      "Epoch 00042: val_loss improved from 0.01397 to 0.01367, saving model to model/keypoint_classifier\\keypoint_classifier.hdf5\n",
      "73/73 [==============================] - 0s 5ms/step - loss: 0.0169 - accuracy: 0.9963 - val_loss: 0.0137 - val_accuracy: 0.9968\n",
      "Epoch 43/1000\n",
      "71/73 [============================>.] - ETA: 0s - loss: 0.0127 - accuracy: 0.9969\n",
      "Epoch 00043: val_loss did not improve from 0.01367\n",
      "73/73 [==============================] - 0s 4ms/step - loss: 0.0134 - accuracy: 0.9966 - val_loss: 0.0187 - val_accuracy: 0.9961\n",
      "Epoch 44/1000\n",
      "57/73 [======================>.......] - ETA: 0s - loss: 0.0117 - accuracy: 0.9981\n",
      "Epoch 00044: val_loss did not improve from 0.01367\n",
      "73/73 [==============================] - 0s 4ms/step - loss: 0.0124 - accuracy: 0.9978 - val_loss: 0.0169 - val_accuracy: 0.9955\n",
      "Epoch 45/1000\n",
      "63/73 [========================>.....] - ETA: 0s - loss: 0.0182 - accuracy: 0.9945\n",
      "Epoch 00045: val_loss did not improve from 0.01367\n",
      "73/73 [==============================] - 0s 5ms/step - loss: 0.0167 - accuracy: 0.9950 - val_loss: 0.0157 - val_accuracy: 0.9948\n",
      "Epoch 46/1000\n",
      "62/73 [========================>.....] - ETA: 0s - loss: 0.0145 - accuracy: 0.9967\n",
      "Epoch 00046: val_loss did not improve from 0.01367\n",
      "73/73 [==============================] - 0s 5ms/step - loss: 0.0134 - accuracy: 0.9970 - val_loss: 0.0145 - val_accuracy: 0.9955\n",
      "Epoch 47/1000\n",
      "65/73 [=========================>....] - ETA: 0s - loss: 0.0132 - accuracy: 0.9969\n",
      "Epoch 00047: val_loss did not improve from 0.01367\n",
      "73/73 [==============================] - 0s 5ms/step - loss: 0.0130 - accuracy: 0.9970 - val_loss: 0.0165 - val_accuracy: 0.9942\n",
      "Epoch 48/1000\n",
      "64/73 [=========================>....] - ETA: 0s - loss: 0.0142 - accuracy: 0.9961\n",
      "Epoch 00048: val_loss improved from 0.01367 to 0.01332, saving model to model/keypoint_classifier\\keypoint_classifier.hdf5\n",
      "73/73 [==============================] - 0s 6ms/step - loss: 0.0130 - accuracy: 0.9966 - val_loss: 0.0133 - val_accuracy: 0.9955\n",
      "Epoch 49/1000\n",
      "62/73 [========================>.....] - ETA: 0s - loss: 0.0108 - accuracy: 0.9972\n",
      "Epoch 00049: val_loss did not improve from 0.01332\n",
      "73/73 [==============================] - 0s 5ms/step - loss: 0.0111 - accuracy: 0.9972 - val_loss: 0.0155 - val_accuracy: 0.9968\n",
      "Epoch 50/1000\n",
      "68/73 [==========================>...] - ETA: 0s - loss: 0.0125 - accuracy: 0.9956\n",
      "Epoch 00050: val_loss did not improve from 0.01332\n",
      "73/73 [==============================] - 1s 7ms/step - loss: 0.0120 - accuracy: 0.9959 - val_loss: 0.0198 - val_accuracy: 0.9942\n",
      "Epoch 51/1000\n",
      "70/73 [===========================>..] - ETA: 0s - loss: 0.0118 - accuracy: 0.9964\n",
      "Epoch 00051: val_loss did not improve from 0.01332\n",
      "73/73 [==============================] - 0s 6ms/step - loss: 0.0118 - accuracy: 0.9966 - val_loss: 0.0139 - val_accuracy: 0.9961\n",
      "Epoch 52/1000\n",
      "48/73 [==================>...........] - ETA: 0s - loss: 0.0088 - accuracy: 0.9974\n",
      "Epoch 00052: val_loss did not improve from 0.01332\n",
      "73/73 [==============================] - 0s 3ms/step - loss: 0.0095 - accuracy: 0.9972 - val_loss: 0.0144 - val_accuracy: 0.9968\n",
      "Epoch 53/1000\n",
      "64/73 [=========================>....] - ETA: 0s - loss: 0.0111 - accuracy: 0.9968\n",
      "Epoch 00053: val_loss improved from 0.01332 to 0.01204, saving model to model/keypoint_classifier\\keypoint_classifier.hdf5\n",
      "73/73 [==============================] - 0s 4ms/step - loss: 0.0107 - accuracy: 0.9970 - val_loss: 0.0120 - val_accuracy: 0.9968\n",
      "Epoch 54/1000\n",
      "56/73 [======================>.......] - ETA: 0s - loss: 0.0079 - accuracy: 0.9975\n",
      "Epoch 00054: val_loss did not improve from 0.01204\n",
      "73/73 [==============================] - 0s 3ms/step - loss: 0.0093 - accuracy: 0.9970 - val_loss: 0.0167 - val_accuracy: 0.9968\n",
      "Epoch 55/1000\n",
      "67/73 [==========================>...] - ETA: 0s - loss: 0.0085 - accuracy: 0.9977\n",
      "Epoch 00055: val_loss did not improve from 0.01204\n",
      "73/73 [==============================] - 0s 2ms/step - loss: 0.0089 - accuracy: 0.9974 - val_loss: 0.0126 - val_accuracy: 0.9968\n",
      "Epoch 56/1000\n",
      "61/73 [========================>.....] - ETA: 0s - loss: 0.0084 - accuracy: 0.9985\n",
      "Epoch 00056: val_loss did not improve from 0.01204\n",
      "73/73 [==============================] - 0s 3ms/step - loss: 0.0081 - accuracy: 0.9985 - val_loss: 0.0134 - val_accuracy: 0.9961\n",
      "Epoch 57/1000\n",
      "71/73 [============================>.] - ETA: 0s - loss: 0.0079 - accuracy: 0.9980\n",
      "Epoch 00057: val_loss did not improve from 0.01204\n",
      "73/73 [==============================] - 0s 3ms/step - loss: 0.0080 - accuracy: 0.9981 - val_loss: 0.0129 - val_accuracy: 0.9981\n",
      "Epoch 58/1000\n",
      "71/73 [============================>.] - ETA: 0s - loss: 0.0068 - accuracy: 0.9985\n",
      "Epoch 00058: val_loss did not improve from 0.01204\n",
      "73/73 [==============================] - 0s 3ms/step - loss: 0.0068 - accuracy: 0.9985 - val_loss: 0.0133 - val_accuracy: 0.9961\n",
      "Epoch 59/1000\n",
      "72/73 [============================>.] - ETA: 0s - loss: 0.0084 - accuracy: 0.9983\n",
      "Epoch 00059: val_loss improved from 0.01204 to 0.00975, saving model to model/keypoint_classifier\\keypoint_classifier.hdf5\n",
      "73/73 [==============================] - 0s 5ms/step - loss: 0.0083 - accuracy: 0.9983 - val_loss: 0.0098 - val_accuracy: 0.9981\n",
      "Epoch 60/1000\n",
      "65/73 [=========================>....] - ETA: 0s - loss: 0.0071 - accuracy: 0.9981\n",
      "Epoch 00060: val_loss did not improve from 0.00975\n",
      "73/73 [==============================] - 0s 2ms/step - loss: 0.0083 - accuracy: 0.9976 - val_loss: 0.0112 - val_accuracy: 0.9981\n",
      "Epoch 61/1000\n",
      "73/73 [==============================] - ETA: 0s - loss: 0.0072 - accuracy: 0.9983\n",
      "Epoch 00061: val_loss did not improve from 0.00975\n",
      "73/73 [==============================] - 0s 5ms/step - loss: 0.0072 - accuracy: 0.9983 - val_loss: 0.0122 - val_accuracy: 0.9974\n",
      "Epoch 62/1000\n",
      "64/73 [=========================>....] - ETA: 0s - loss: 0.0097 - accuracy: 0.9971\n",
      "Epoch 00062: val_loss did not improve from 0.00975\n",
      "73/73 [==============================] - 0s 5ms/step - loss: 0.0090 - accuracy: 0.9972 - val_loss: 0.0140 - val_accuracy: 0.9961\n",
      "Epoch 63/1000\n",
      "68/73 [==========================>...] - ETA: 0s - loss: 0.0086 - accuracy: 0.9977\n",
      "Epoch 00063: val_loss did not improve from 0.00975\n",
      "73/73 [==============================] - 0s 6ms/step - loss: 0.0082 - accuracy: 0.9978 - val_loss: 0.0098 - val_accuracy: 0.9981\n",
      "Epoch 64/1000\n",
      "66/73 [==========================>...] - ETA: 0s - loss: 0.0067 - accuracy: 0.9983\n",
      "Epoch 00064: val_loss did not improve from 0.00975\n",
      "73/73 [==============================] - 0s 5ms/step - loss: 0.0066 - accuracy: 0.9983 - val_loss: 0.0104 - val_accuracy: 0.9961\n",
      "Epoch 65/1000\n",
      "61/73 [========================>.....] - ETA: 0s - loss: 0.0078 - accuracy: 0.9982\n",
      "Epoch 00065: val_loss did not improve from 0.00975\n",
      "73/73 [==============================] - 0s 5ms/step - loss: 0.0072 - accuracy: 0.9983 - val_loss: 0.0119 - val_accuracy: 0.9981\n",
      "Epoch 66/1000\n",
      "65/73 [=========================>....] - ETA: 0s - loss: 0.0057 - accuracy: 0.9983\n",
      "Epoch 00066: val_loss did not improve from 0.00975\n",
      "73/73 [==============================] - 0s 5ms/step - loss: 0.0058 - accuracy: 0.9983 - val_loss: 0.0125 - val_accuracy: 0.9955\n",
      "Epoch 67/1000\n",
      "65/73 [=========================>....] - ETA: 0s - loss: 0.0083 - accuracy: 0.9971\n",
      "Epoch 00067: val_loss did not improve from 0.00975\n",
      "73/73 [==============================] - 0s 5ms/step - loss: 0.0081 - accuracy: 0.9972 - val_loss: 0.0106 - val_accuracy: 0.9987\n",
      "Epoch 68/1000\n",
      "69/73 [===========================>..] - ETA: 0s - loss: 0.0083 - accuracy: 0.9982\n",
      "Epoch 00068: val_loss did not improve from 0.00975\n",
      "73/73 [==============================] - 0s 6ms/step - loss: 0.0080 - accuracy: 0.9983 - val_loss: 0.0141 - val_accuracy: 0.9955\n",
      "Epoch 69/1000\n",
      "57/73 [======================>.......] - ETA: 0s - loss: 0.0065 - accuracy: 0.9978\n",
      "Epoch 00069: val_loss improved from 0.00975 to 0.00905, saving model to model/keypoint_classifier\\keypoint_classifier.hdf5\n",
      "73/73 [==============================] - 0s 5ms/step - loss: 0.0060 - accuracy: 0.9981 - val_loss: 0.0091 - val_accuracy: 0.9974\n",
      "Epoch 70/1000\n",
      "72/73 [============================>.] - ETA: 0s - loss: 0.0070 - accuracy: 0.9980\n",
      "Epoch 00070: val_loss did not improve from 0.00905\n",
      "73/73 [==============================] - 0s 5ms/step - loss: 0.0070 - accuracy: 0.9981 - val_loss: 0.0103 - val_accuracy: 0.9987\n",
      "Epoch 71/1000\n",
      "67/73 [==========================>...] - ETA: 0s - loss: 0.0058 - accuracy: 0.9977\n",
      "Epoch 00071: val_loss did not improve from 0.00905\n",
      "73/73 [==============================] - 0s 6ms/step - loss: 0.0056 - accuracy: 0.9978 - val_loss: 0.0175 - val_accuracy: 0.9955\n",
      "Epoch 72/1000\n",
      "58/73 [======================>.......] - ETA: 0s - loss: 0.0066 - accuracy: 0.9987\n",
      "Epoch 00072: val_loss did not improve from 0.00905\n",
      "73/73 [==============================] - 0s 5ms/step - loss: 0.0058 - accuracy: 0.9989 - val_loss: 0.0094 - val_accuracy: 0.9981\n",
      "Epoch 73/1000\n",
      "68/73 [==========================>...] - ETA: 0s - loss: 0.0053 - accuracy: 0.9986\n",
      "Epoch 00073: val_loss improved from 0.00905 to 0.00890, saving model to model/keypoint_classifier\\keypoint_classifier.hdf5\n",
      "73/73 [==============================] - 0s 5ms/step - loss: 0.0051 - accuracy: 0.9987 - val_loss: 0.0089 - val_accuracy: 0.9981\n",
      "Epoch 74/1000\n",
      "69/73 [===========================>..] - ETA: 0s - loss: 0.0048 - accuracy: 0.9991\n",
      "Epoch 00074: val_loss did not improve from 0.00890\n",
      "73/73 [==============================] - 0s 3ms/step - loss: 0.0047 - accuracy: 0.9991 - val_loss: 0.0109 - val_accuracy: 0.9968\n",
      "Epoch 75/1000\n",
      "68/73 [==========================>...] - ETA: 0s - loss: 0.0039 - accuracy: 0.9998\n",
      "Epoch 00075: val_loss did not improve from 0.00890\n",
      "73/73 [==============================] - 0s 2ms/step - loss: 0.0043 - accuracy: 0.9994 - val_loss: 0.0090 - val_accuracy: 0.9981\n",
      "Epoch 76/1000\n",
      "62/73 [========================>.....] - ETA: 0s - loss: 0.0057 - accuracy: 0.9985\n",
      "Epoch 00076: val_loss did not improve from 0.00890\n",
      "73/73 [==============================] - 0s 4ms/step - loss: 0.0055 - accuracy: 0.9985 - val_loss: 0.0110 - val_accuracy: 0.9974\n",
      "Epoch 77/1000\n",
      "67/73 [==========================>...] - ETA: 0s - loss: 0.0040 - accuracy: 0.9991\n",
      "Epoch 00077: val_loss did not improve from 0.00890\n",
      "73/73 [==============================] - 0s 4ms/step - loss: 0.0040 - accuracy: 0.9991 - val_loss: 0.0111 - val_accuracy: 0.9955\n",
      "Epoch 78/1000\n",
      "73/73 [==============================] - ETA: 0s - loss: 0.0036 - accuracy: 0.9991\n",
      "Epoch 00078: val_loss did not improve from 0.00890\n",
      "73/73 [==============================] - 0s 4ms/step - loss: 0.0036 - accuracy: 0.9991 - val_loss: 0.0124 - val_accuracy: 0.9948\n",
      "Epoch 79/1000\n",
      "70/73 [===========================>..] - ETA: 0s - loss: 0.0047 - accuracy: 0.9993\n",
      "Epoch 00079: val_loss did not improve from 0.00890\n",
      "73/73 [==============================] - 0s 3ms/step - loss: 0.0049 - accuracy: 0.9994 - val_loss: 0.0098 - val_accuracy: 0.9974\n",
      "Epoch 80/1000\n",
      "53/73 [====================>.........] - ETA: 0s - loss: 0.0047 - accuracy: 0.9994\n",
      "Epoch 00080: val_loss improved from 0.00890 to 0.00825, saving model to model/keypoint_classifier\\keypoint_classifier.hdf5\n",
      "73/73 [==============================] - 0s 4ms/step - loss: 0.0055 - accuracy: 0.9989 - val_loss: 0.0083 - val_accuracy: 0.9981\n",
      "Epoch 81/1000\n",
      "68/73 [==========================>...] - ETA: 0s - loss: 0.0066 - accuracy: 0.9986\n",
      "Epoch 00081: val_loss did not improve from 0.00825\n",
      "73/73 [==============================] - 0s 3ms/step - loss: 0.0063 - accuracy: 0.9987 - val_loss: 0.0091 - val_accuracy: 0.9981\n",
      "Epoch 82/1000\n",
      "68/73 [==========================>...] - ETA: 0s - loss: 0.0038 - accuracy: 0.9993\n",
      "Epoch 00082: val_loss did not improve from 0.00825\n",
      "73/73 [==============================] - 0s 2ms/step - loss: 0.0038 - accuracy: 0.9991 - val_loss: 0.0095 - val_accuracy: 0.9974\n",
      "Epoch 83/1000\n",
      "59/73 [=======================>......] - ETA: 0s - loss: 0.0030 - accuracy: 0.9997  \n",
      "Epoch 00083: val_loss did not improve from 0.00825\n",
      "73/73 [==============================] - 0s 3ms/step - loss: 0.0040 - accuracy: 0.9996 - val_loss: 0.0109 - val_accuracy: 0.9968\n",
      "Epoch 84/1000\n",
      "57/73 [======================>.......] - ETA: 0s - loss: 0.0042 - accuracy: 0.9986  \n",
      "Epoch 00084: val_loss did not improve from 0.00825\n",
      "73/73 [==============================] - 0s 3ms/step - loss: 0.0042 - accuracy: 0.9989 - val_loss: 0.0103 - val_accuracy: 0.9968\n",
      "Epoch 85/1000\n",
      "69/73 [===========================>..] - ETA: 0s - loss: 0.0029 - accuracy: 0.9995\n",
      "Epoch 00085: val_loss did not improve from 0.00825\n",
      "73/73 [==============================] - 0s 3ms/step - loss: 0.0028 - accuracy: 0.9996 - val_loss: 0.0118 - val_accuracy: 0.9968\n",
      "Epoch 86/1000\n",
      "66/73 [==========================>...] - ETA: 0s - loss: 0.0042 - accuracy: 0.9993\n",
      "Epoch 00086: val_loss improved from 0.00825 to 0.00746, saving model to model/keypoint_classifier\\keypoint_classifier.hdf5\n",
      "73/73 [==============================] - 0s 6ms/step - loss: 0.0039 - accuracy: 0.9994 - val_loss: 0.0075 - val_accuracy: 0.9987\n",
      "Epoch 87/1000\n",
      "69/73 [===========================>..] - ETA: 0s - loss: 0.0036 - accuracy: 0.9991\n",
      "Epoch 00087: val_loss did not improve from 0.00746\n",
      "73/73 [==============================] - 0s 6ms/step - loss: 0.0037 - accuracy: 0.9989 - val_loss: 0.0106 - val_accuracy: 0.9961\n",
      "Epoch 88/1000\n",
      "63/73 [========================>.....] - ETA: 0s - loss: 0.0098 - accuracy: 0.9968\n",
      "Epoch 00088: val_loss did not improve from 0.00746\n",
      "73/73 [==============================] - 0s 6ms/step - loss: 0.0092 - accuracy: 0.9970 - val_loss: 0.0095 - val_accuracy: 0.9981\n",
      "Epoch 89/1000\n",
      "73/73 [==============================] - ETA: 0s - loss: 0.0031 - accuracy: 0.9989\n",
      "Epoch 00089: val_loss did not improve from 0.00746\n",
      "73/73 [==============================] - 0s 6ms/step - loss: 0.0031 - accuracy: 0.9989 - val_loss: 0.0106 - val_accuracy: 0.9968\n",
      "Epoch 90/1000\n",
      "68/73 [==========================>...] - ETA: 0s - loss: 0.0030 - accuracy: 0.9998\n",
      "Epoch 00090: val_loss did not improve from 0.00746\n",
      "73/73 [==============================] - 0s 3ms/step - loss: 0.0031 - accuracy: 0.9998 - val_loss: 0.0090 - val_accuracy: 0.9968\n",
      "Epoch 91/1000\n",
      "58/73 [======================>.......] - ETA: 0s - loss: 0.0031 - accuracy: 0.9997\n",
      "Epoch 00091: val_loss did not improve from 0.00746\n",
      "73/73 [==============================] - 0s 4ms/step - loss: 0.0035 - accuracy: 0.9996 - val_loss: 0.0123 - val_accuracy: 0.9974\n",
      "Epoch 92/1000\n",
      "61/73 [========================>.....] - ETA: 0s - loss: 0.0045 - accuracy: 0.9982\n",
      "Epoch 00092: val_loss did not improve from 0.00746\n",
      "73/73 [==============================] - 0s 4ms/step - loss: 0.0061 - accuracy: 0.9978 - val_loss: 0.0204 - val_accuracy: 0.9929\n",
      "Epoch 93/1000\n",
      "69/73 [===========================>..] - ETA: 0s - loss: 0.0084 - accuracy: 0.9977\n",
      "Epoch 00093: val_loss did not improve from 0.00746\n",
      "73/73 [==============================] - 0s 5ms/step - loss: 0.0081 - accuracy: 0.9978 - val_loss: 0.0099 - val_accuracy: 0.9968\n",
      "Epoch 94/1000\n",
      "65/73 [=========================>....] - ETA: 0s - loss: 0.0025 - accuracy: 0.9993\n",
      "Epoch 00094: val_loss did not improve from 0.00746\n",
      "73/73 [==============================] - 0s 5ms/step - loss: 0.0024 - accuracy: 0.9994 - val_loss: 0.0086 - val_accuracy: 0.9974\n",
      "Epoch 95/1000\n",
      "70/73 [===========================>..] - ETA: 0s - loss: 0.0019 - accuracy: 0.9998\n",
      "Epoch 00095: val_loss did not improve from 0.00746\n",
      "73/73 [==============================] - 0s 5ms/step - loss: 0.0018 - accuracy: 0.9998 - val_loss: 0.0086 - val_accuracy: 0.9981\n",
      "Epoch 96/1000\n",
      "63/73 [========================>.....] - ETA: 0s - loss: 0.0024 - accuracy: 0.9995\n",
      "Epoch 00096: val_loss did not improve from 0.00746\n",
      "73/73 [==============================] - 0s 6ms/step - loss: 0.0028 - accuracy: 0.9991 - val_loss: 0.0111 - val_accuracy: 0.9974\n",
      "Epoch 97/1000\n",
      "73/73 [==============================] - ETA: 0s - loss: 0.0046 - accuracy: 0.9985\n",
      "Epoch 00097: val_loss did not improve from 0.00746\n",
      "73/73 [==============================] - 0s 5ms/step - loss: 0.0046 - accuracy: 0.9985 - val_loss: 0.0160 - val_accuracy: 0.9955\n",
      "Epoch 98/1000\n",
      "68/73 [==========================>...] - ETA: 0s - loss: 0.0041 - accuracy: 0.9986\n",
      "Epoch 00098: val_loss improved from 0.00746 to 0.00742, saving model to model/keypoint_classifier\\keypoint_classifier.hdf5\n",
      "73/73 [==============================] - 0s 6ms/step - loss: 0.0039 - accuracy: 0.9987 - val_loss: 0.0074 - val_accuracy: 0.9981\n",
      "Epoch 99/1000\n",
      "71/73 [============================>.] - ETA: 0s - loss: 0.0021 - accuracy: 0.9993\n",
      "Epoch 00099: val_loss did not improve from 0.00742\n",
      "73/73 [==============================] - 0s 5ms/step - loss: 0.0021 - accuracy: 0.9994 - val_loss: 0.0078 - val_accuracy: 0.9994\n",
      "Epoch 100/1000\n",
      "72/73 [============================>.] - ETA: 0s - loss: 0.0024 - accuracy: 0.9996\n",
      "Epoch 00100: val_loss did not improve from 0.00742\n",
      "73/73 [==============================] - 0s 5ms/step - loss: 0.0024 - accuracy: 0.9996 - val_loss: 0.0090 - val_accuracy: 0.9981\n",
      "Epoch 101/1000\n",
      "73/73 [==============================] - ETA: 0s - loss: 0.0028 - accuracy: 0.9991 ETA: 0s - loss: 0.0049 - accuracy: \n",
      "Epoch 00101: val_loss did not improve from 0.00742\n",
      "73/73 [==============================] - 0s 5ms/step - loss: 0.0028 - accuracy: 0.9991 - val_loss: 0.0095 - val_accuracy: 0.9974\n",
      "Epoch 102/1000\n",
      "65/73 [=========================>....] - ETA: 0s - loss: 0.0027 - accuracy: 0.9998\n",
      "Epoch 00102: val_loss did not improve from 0.00742\n",
      "73/73 [==============================] - 0s 5ms/step - loss: 0.0026 - accuracy: 0.9998 - val_loss: 0.0081 - val_accuracy: 0.9974\n",
      "Epoch 103/1000\n",
      "62/73 [========================>.....] - ETA: 0s - loss: 0.0022 - accuracy: 0.9995  \n",
      "Epoch 00103: val_loss did not improve from 0.00742\n",
      "73/73 [==============================] - 0s 4ms/step - loss: 0.0023 - accuracy: 0.9996 - val_loss: 0.0120 - val_accuracy: 0.9968\n",
      "Epoch 104/1000\n",
      "69/73 [===========================>..] - ETA: 0s - loss: 0.0036 - accuracy: 0.9986\n",
      "Epoch 00104: val_loss did not improve from 0.00742\n",
      "73/73 [==============================] - 0s 5ms/step - loss: 0.0035 - accuracy: 0.9987 - val_loss: 0.0088 - val_accuracy: 0.9974\n",
      "Epoch 105/1000\n",
      "55/73 [=====================>........] - ETA: 0s - loss: 0.0050 - accuracy: 0.9983\n",
      "Epoch 00105: val_loss did not improve from 0.00742\n",
      "73/73 [==============================] - 0s 4ms/step - loss: 0.0063 - accuracy: 0.9978 - val_loss: 0.0114 - val_accuracy: 0.9981\n",
      "Epoch 106/1000\n",
      "57/73 [======================>.......] - ETA: 0s - loss: 0.0097 - accuracy: 0.9975\n",
      "Epoch 00106: val_loss did not improve from 0.00742\n",
      "73/73 [==============================] - 0s 4ms/step - loss: 0.0083 - accuracy: 0.9981 - val_loss: 0.0109 - val_accuracy: 0.9974\n",
      "Epoch 107/1000\n",
      "70/73 [===========================>..] - ETA: 0s - loss: 0.0021 - accuracy: 0.9991\n",
      "Epoch 00107: val_loss did not improve from 0.00742\n",
      "73/73 [==============================] - 0s 5ms/step - loss: 0.0021 - accuracy: 0.9991 - val_loss: 0.0115 - val_accuracy: 0.9968\n",
      "Epoch 108/1000\n",
      "69/73 [===========================>..] - ETA: 0s - loss: 0.0052 - accuracy: 0.9982\n",
      "Epoch 00108: val_loss did not improve from 0.00742\n",
      "73/73 [==============================] - 0s 6ms/step - loss: 0.0055 - accuracy: 0.9981 - val_loss: 0.0167 - val_accuracy: 0.9961\n",
      "Epoch 109/1000\n",
      "70/73 [===========================>..] - ETA: 0s - loss: 0.0046 - accuracy: 0.9987\n",
      "Epoch 00109: val_loss did not improve from 0.00742\n",
      "73/73 [==============================] - 0s 6ms/step - loss: 0.0044 - accuracy: 0.9987 - val_loss: 0.0102 - val_accuracy: 0.9974\n",
      "Epoch 110/1000\n",
      "69/73 [===========================>..] - ETA: 0s - loss: 0.0031 - accuracy: 0.9989\n",
      "Epoch 00110: val_loss did not improve from 0.00742\n",
      "73/73 [==============================] - 0s 6ms/step - loss: 0.0030 - accuracy: 0.9989 - val_loss: 0.0105 - val_accuracy: 0.9968\n",
      "Epoch 111/1000\n",
      "66/73 [==========================>...] - ETA: 0s - loss: 0.0025 - accuracy: 0.9998\n",
      "Epoch 00111: val_loss did not improve from 0.00742\n",
      "73/73 [==============================] - 0s 6ms/step - loss: 0.0023 - accuracy: 0.9998 - val_loss: 0.0099 - val_accuracy: 0.9974\n",
      "Epoch 112/1000\n",
      "73/73 [==============================] - ETA: 0s - loss: 0.0014 - accuracy: 0.9996  \n",
      "Epoch 00112: val_loss did not improve from 0.00742\n",
      "73/73 [==============================] - 0s 6ms/step - loss: 0.0014 - accuracy: 0.9996 - val_loss: 0.0104 - val_accuracy: 0.9974\n",
      "Epoch 113/1000\n",
      "72/73 [============================>.] - ETA: 0s - loss: 0.0012 - accuracy: 0.9998    \n",
      "Epoch 00113: val_loss did not improve from 0.00742\n",
      "73/73 [==============================] - 0s 6ms/step - loss: 0.0012 - accuracy: 0.9998 - val_loss: 0.0165 - val_accuracy: 0.9935\n",
      "Epoch 114/1000\n",
      "66/73 [==========================>...] - ETA: 0s - loss: 0.0014 - accuracy: 0.9998\n",
      "Epoch 00114: val_loss did not improve from 0.00742\n",
      "73/73 [==============================] - 0s 5ms/step - loss: 0.0024 - accuracy: 0.9996 - val_loss: 0.0122 - val_accuracy: 0.9968\n",
      "Epoch 115/1000\n",
      "60/73 [=======================>......] - ETA: 0s - loss: 9.5997e-04 - accuracy: 1.0000\n",
      "Epoch 00115: val_loss did not improve from 0.00742\n",
      "73/73 [==============================] - 0s 5ms/step - loss: 0.0015 - accuracy: 0.9998 - val_loss: 0.0112 - val_accuracy: 0.9974\n",
      "Epoch 116/1000\n",
      "61/73 [========================>.....] - ETA: 0s - loss: 9.0234e-04 - accuracy: 1.0000\n",
      "Epoch 00116: val_loss did not improve from 0.00742\n",
      "73/73 [==============================] - 0s 5ms/step - loss: 8.4911e-04 - accuracy: 1.0000 - val_loss: 0.0102 - val_accuracy: 0.9974\n",
      "Epoch 117/1000\n",
      "63/73 [========================>.....] - ETA: 0s - loss: 0.0012 - accuracy: 0.9998  \n",
      "Epoch 00117: val_loss did not improve from 0.00742\n",
      "73/73 [==============================] - 0s 5ms/step - loss: 0.0012 - accuracy: 0.9998 - val_loss: 0.0104 - val_accuracy: 0.9974\n",
      "Epoch 118/1000\n",
      "65/73 [=========================>....] - ETA: 0s - loss: 0.0011 - accuracy: 0.9998\n",
      "Epoch 00118: val_loss did not improve from 0.00742\n",
      "73/73 [==============================] - 0s 6ms/step - loss: 0.0011 - accuracy: 0.9998 - val_loss: 0.0099 - val_accuracy: 0.9974\n",
      "Epoch 119/1000\n",
      "59/73 [=======================>......] - ETA: 0s - loss: 6.4438e-04 - accuracy: 1.0000\n",
      "Epoch 00119: val_loss did not improve from 0.00742\n",
      "73/73 [==============================] - 0s 5ms/step - loss: 6.2121e-04 - accuracy: 1.0000 - val_loss: 0.0100 - val_accuracy: 0.9974\n",
      "Epoch 120/1000\n",
      "73/73 [==============================] - ETA: 0s - loss: 0.0010 - accuracy: 0.9998\n",
      "Epoch 00120: val_loss did not improve from 0.00742\n",
      "73/73 [==============================] - 0s 5ms/step - loss: 0.0010 - accuracy: 0.9998 - val_loss: 0.0093 - val_accuracy: 0.9974\n",
      "Epoch 121/1000\n",
      "64/73 [=========================>....] - ETA: 0s - loss: 0.0014 - accuracy: 0.9995  \n",
      "Epoch 00121: val_loss did not improve from 0.00742\n",
      "73/73 [==============================] - 0s 5ms/step - loss: 0.0015 - accuracy: 0.9996 - val_loss: 0.0125 - val_accuracy: 0.9974\n",
      "Epoch 122/1000\n",
      "67/73 [==========================>...] - ETA: 0s - loss: 0.0027 - accuracy: 0.9991\n",
      "Epoch 00122: val_loss did not improve from 0.00742\n",
      "73/73 [==============================] - 0s 6ms/step - loss: 0.0034 - accuracy: 0.9989 - val_loss: 0.0089 - val_accuracy: 0.9974\n",
      "Epoch 123/1000\n",
      "66/73 [==========================>...] - ETA: 0s - loss: 0.0025 - accuracy: 0.9993\n",
      "Epoch 00123: val_loss did not improve from 0.00742\n",
      "73/73 [==============================] - 0s 5ms/step - loss: 0.0023 - accuracy: 0.9994 - val_loss: 0.0157 - val_accuracy: 0.9948\n",
      "Epoch 124/1000\n",
      "64/73 [=========================>....] - ETA: 0s - loss: 0.0024 - accuracy: 0.9995\n",
      "Epoch 00124: val_loss did not improve from 0.00742\n",
      "73/73 [==============================] - 0s 5ms/step - loss: 0.0022 - accuracy: 0.9996 - val_loss: 0.0094 - val_accuracy: 0.9981\n",
      "Epoch 125/1000\n",
      "65/73 [=========================>....] - ETA: 0s - loss: 0.0010 - accuracy: 0.9998\n",
      "Epoch 00125: val_loss did not improve from 0.00742\n",
      "73/73 [==============================] - 0s 5ms/step - loss: 9.7598e-04 - accuracy: 0.9998 - val_loss: 0.0105 - val_accuracy: 0.9981\n",
      "Epoch 126/1000\n",
      "65/73 [=========================>....] - ETA: 0s - loss: 8.0294e-04 - accuracy: 1.0000\n",
      "Epoch 00126: val_loss did not improve from 0.00742\n",
      "73/73 [==============================] - 0s 5ms/step - loss: 7.5059e-04 - accuracy: 1.0000 - val_loss: 0.0092 - val_accuracy: 0.9974\n",
      "Epoch 127/1000\n",
      "60/73 [=======================>......] - ETA: 0s - loss: 0.0019 - accuracy: 0.9995  \n",
      "Epoch 00127: val_loss did not improve from 0.00742\n",
      "73/73 [==============================] - 0s 5ms/step - loss: 0.0016 - accuracy: 0.9996 - val_loss: 0.0099 - val_accuracy: 0.9974\n",
      "Epoch 128/1000\n",
      "58/73 [======================>.......] - ETA: 0s - loss: 0.0029 - accuracy: 0.9992\n",
      "Epoch 00128: val_loss did not improve from 0.00742\n",
      "73/73 [==============================] - 0s 6ms/step - loss: 0.0034 - accuracy: 0.9987 - val_loss: 0.0109 - val_accuracy: 0.9974\n",
      "Epoch 129/1000\n",
      "55/73 [=====================>........] - ETA: 0s - loss: 0.0024 - accuracy: 0.9997\n",
      "Epoch 00129: val_loss did not improve from 0.00742\n",
      "73/73 [==============================] - 0s 4ms/step - loss: 0.0021 - accuracy: 0.9998 - val_loss: 0.0116 - val_accuracy: 0.9974\n",
      "Epoch 130/1000\n",
      "59/73 [=======================>......] - ETA: 0s - loss: 8.5022e-04 - accuracy: 0.9997\n",
      "Epoch 00130: val_loss did not improve from 0.00742\n",
      "73/73 [==============================] - 0s 4ms/step - loss: 0.0010 - accuracy: 0.9996 - val_loss: 0.0107 - val_accuracy: 0.9981\n",
      "Epoch 131/1000\n",
      "70/73 [===========================>..] - ETA: 0s - loss: 0.0077 - accuracy: 0.9973\n",
      "Epoch 00131: val_loss did not improve from 0.00742\n",
      "73/73 [==============================] - 0s 5ms/step - loss: 0.0074 - accuracy: 0.9974 - val_loss: 0.0221 - val_accuracy: 0.9948\n",
      "Epoch 132/1000\n",
      "68/73 [==========================>...] - ETA: 0s - loss: 0.0062 - accuracy: 0.9979\n",
      "Epoch 00132: val_loss did not improve from 0.00742\n",
      "73/73 [==============================] - 0s 5ms/step - loss: 0.0062 - accuracy: 0.9978 - val_loss: 0.0284 - val_accuracy: 0.9884\n",
      "Epoch 133/1000\n",
      "67/73 [==========================>...] - ETA: 0s - loss: 0.0086 - accuracy: 0.9974\n",
      "Epoch 00133: val_loss did not improve from 0.00742\n",
      "73/73 [==============================] - 0s 6ms/step - loss: 0.0088 - accuracy: 0.9974 - val_loss: 0.0136 - val_accuracy: 0.9968\n",
      "Epoch 134/1000\n",
      "57/73 [======================>.......] - ETA: 0s - loss: 0.0058 - accuracy: 0.9989  \n",
      "Epoch 00134: val_loss did not improve from 0.00742\n",
      "73/73 [==============================] - 0s 3ms/step - loss: 0.0048 - accuracy: 0.9991 - val_loss: 0.0113 - val_accuracy: 0.9968\n",
      "Epoch 135/1000\n",
      "57/73 [======================>.......] - ETA: 0s - loss: 5.6169e-04 - accuracy: 1.0000\n",
      "Epoch 00135: val_loss did not improve from 0.00742\n",
      "73/73 [==============================] - 0s 3ms/step - loss: 8.0424e-04 - accuracy: 0.9998 - val_loss: 0.0118 - val_accuracy: 0.9981\n",
      "Epoch 136/1000\n",
      "58/73 [======================>.......] - ETA: 0s - loss: 0.0021 - accuracy: 0.9995\n",
      "Epoch 00136: val_loss did not improve from 0.00742\n",
      "73/73 [==============================] - 0s 4ms/step - loss: 0.0019 - accuracy: 0.9996 - val_loss: 0.0107 - val_accuracy: 0.9974\n",
      "Epoch 137/1000\n",
      "71/73 [============================>.] - ETA: 0s - loss: 8.1479e-04 - accuracy: 0.9998\n",
      "Epoch 00137: val_loss did not improve from 0.00742\n",
      "73/73 [==============================] - 0s 5ms/step - loss: 8.0110e-04 - accuracy: 0.9998 - val_loss: 0.0104 - val_accuracy: 0.9974\n",
      "Epoch 138/1000\n",
      "72/73 [============================>.] - ETA: 0s - loss: 5.4103e-04 - accuracy: 1.0000\n",
      "Epoch 00138: val_loss did not improve from 0.00742\n",
      "73/73 [==============================] - 0s 5ms/step - loss: 5.4325e-04 - accuracy: 1.0000 - val_loss: 0.0108 - val_accuracy: 0.9974\n",
      "Epoch 139/1000\n",
      "65/73 [=========================>....] - ETA: 0s - loss: 5.9085e-04 - accuracy: 1.0000\n",
      "Epoch 00139: val_loss did not improve from 0.00742\n",
      "73/73 [==============================] - 0s 5ms/step - loss: 5.4785e-04 - accuracy: 1.0000 - val_loss: 0.0106 - val_accuracy: 0.9974\n",
      "Epoch 140/1000\n",
      "69/73 [===========================>..] - ETA: 0s - loss: 3.2300e-04 - accuracy: 1.0000\n",
      "Epoch 00140: val_loss did not improve from 0.00742\n",
      "73/73 [==============================] - 0s 6ms/step - loss: 3.2557e-04 - accuracy: 1.0000 - val_loss: 0.0105 - val_accuracy: 0.9974\n",
      "Epoch 141/1000\n",
      "69/73 [===========================>..] - ETA: 0s - loss: 5.7570e-04 - accuracy: 0.9998\n",
      "Epoch 00141: val_loss did not improve from 0.00742\n",
      "73/73 [==============================] - 0s 6ms/step - loss: 5.6013e-04 - accuracy: 0.9998 - val_loss: 0.0106 - val_accuracy: 0.9974\n",
      "Epoch 142/1000\n",
      "70/73 [===========================>..] - ETA: 0s - loss: 4.0597e-04 - accuracy: 1.0000\n",
      "Epoch 00142: val_loss did not improve from 0.00742\n",
      "73/73 [==============================] - 0s 4ms/step - loss: 4.0474e-04 - accuracy: 1.0000 - val_loss: 0.0120 - val_accuracy: 0.9974\n",
      "Epoch 143/1000\n",
      "65/73 [=========================>....] - ETA: 0s - loss: 4.3510e-04 - accuracy: 1.0000\n",
      "Epoch 00143: val_loss did not improve from 0.00742\n",
      "73/73 [==============================] - 0s 5ms/step - loss: 4.1644e-04 - accuracy: 1.0000 - val_loss: 0.0106 - val_accuracy: 0.9974\n",
      "Epoch 144/1000\n",
      "56/73 [======================>.......] - ETA: 0s - loss: 0.0016 - accuracy: 0.9994  \n",
      "Epoch 00144: val_loss did not improve from 0.00742\n",
      "73/73 [==============================] - 0s 4ms/step - loss: 0.0015 - accuracy: 0.9996 - val_loss: 0.0096 - val_accuracy: 0.9981\n",
      "Epoch 145/1000\n",
      "73/73 [==============================] - ETA: 0s - loss: 8.7470e-04 - accuracy: 0.9998\n",
      "Epoch 00145: val_loss did not improve from 0.00742\n",
      "73/73 [==============================] - 0s 4ms/step - loss: 8.7470e-04 - accuracy: 0.9998 - val_loss: 0.0109 - val_accuracy: 0.9974\n",
      "Epoch 146/1000\n",
      "58/73 [======================>.......] - ETA: 0s - loss: 0.0031 - accuracy: 0.9992\n",
      "Epoch 00146: val_loss did not improve from 0.00742\n",
      "73/73 [==============================] - 0s 4ms/step - loss: 0.0028 - accuracy: 0.9991 - val_loss: 0.0086 - val_accuracy: 0.9981\n",
      "Epoch 147/1000\n",
      "61/73 [========================>.....] - ETA: 0s - loss: 0.0044 - accuracy: 0.9985\n",
      "Epoch 00147: val_loss did not improve from 0.00742\n",
      "73/73 [==============================] - 0s 4ms/step - loss: 0.0039 - accuracy: 0.9987 - val_loss: 0.0165 - val_accuracy: 0.9974\n",
      "Epoch 148/1000\n",
      "56/73 [======================>.......] - ETA: 0s - loss: 0.0013 - accuracy: 0.9997    \n",
      "Epoch 00148: val_loss did not improve from 0.00742\n",
      "73/73 [==============================] - 0s 4ms/step - loss: 0.0017 - accuracy: 0.9998 - val_loss: 0.0184 - val_accuracy: 0.9942\n",
      "Epoch 00148: early stopping\n"
     ]
    },
    {
     "data": {
      "text/plain": [
       "<keras.callbacks.History at 0x281a3fc6f10>"
      ]
     },
     "execution_count": 12,
     "metadata": {},
     "output_type": "execute_result"
    }
   ],
   "source": [
    "model.fit(\n",
    "    X_train,\n",
    "    y_train,\n",
    "    epochs=1000,\n",
    "    batch_size=64,\n",
    "    validation_data=(X_test, y_test),\n",
    "    callbacks=[cp_callback, es_callback]\n",
    ")"
   ]
  },
  {
   "cell_type": "code",
   "execution_count": 13,
   "metadata": {
    "id": "RBkmDeUW9hE4"
   },
   "outputs": [],
   "source": [
    "# Loading the saved model\n",
    "model = tf.keras.models.load_model(model_save_path)"
   ]
  },
  {
   "cell_type": "code",
   "execution_count": 14,
   "metadata": {
    "colab": {
     "base_uri": "https://localhost:8080/"
    },
    "id": "pxvb2Y299hE3",
    "outputId": "7015e279-0501-4f24-d1b5-90652d2de17d"
   },
   "outputs": [
    {
     "name": "stdout",
     "output_type": "stream",
     "text": [
      "25/25 [==============================] - 0s 2ms/step - loss: 0.0074 - accuracy: 0.9981\n"
     ]
    }
   ],
   "source": [
    "# Model evaluation\n",
    "# TODO Test on loaded model\n",
    "val_loss, val_acc = model.evaluate(X_test, y_test, batch_size=64)"
   ]
  },
  {
   "cell_type": "code",
   "execution_count": 15,
   "metadata": {
    "colab": {
     "base_uri": "https://localhost:8080/"
    },
    "id": "tFz9Tb0I9hE4",
    "outputId": "bb8a62a9-bf7d-4d99-8099-bda4e2e1c73a"
   },
   "outputs": [
    {
     "name": "stdout",
     "output_type": "stream",
     "text": [
      "[1.00000000e+00 4.34509353e-08 2.14025420e-09 1.59159300e-18\n",
      " 9.94752615e-25 4.19803415e-37 1.17972954e-26 3.00926316e-24]\n",
      "0\n"
     ]
    }
   ],
   "source": [
    "# Inference test\n",
    "predict_result = model.predict(np.array([X_test[0]]))\n",
    "print(np.squeeze(predict_result))\n",
    "print(np.argmax(np.squeeze(predict_result)))"
   ]
  },
  {
   "cell_type": "markdown",
   "metadata": {
    "id": "S3U4yNWx9hE4"
   },
   "source": [
    "# Confusion matrix"
   ]
  },
  {
   "cell_type": "code",
   "execution_count": 18,
   "metadata": {
    "colab": {
     "base_uri": "https://localhost:8080/",
     "height": 646
    },
    "id": "AP1V6SCk9hE5",
    "outputId": "efce96b9-ca1c-44a5-ef77-58f1d5fc154c"
   },
   "outputs": [
    {
     "data": {
      "image/png": "[encoded data removed]",
      "text/plain": [
       "<Figure size 504x432 with 2 Axes>"
      ]
     },
     "metadata": {
      "needs_background": "light"
     },
     "output_type": "display_data"
    },
    {
     "name": "stdout",
     "output_type": "stream",
     "text": [
      "Classification Report\n",
      "              precision    recall  f1-score   support\n",
      "\n",
      "           0       1.00      1.00      1.00       420\n",
      "           1       1.00      1.00      1.00       397\n",
      "           2       0.99      1.00      1.00       369\n",
      "           3       1.00      1.00      1.00       178\n",
      "           4       0.97      1.00      0.99        37\n",
      "           5       1.00      1.00      1.00        62\n",
      "           6       1.00      1.00      1.00        42\n",
      "           7       1.00      1.00      1.00        43\n",
      "\n",
      "    accuracy                           1.00      1548\n",
      "   macro avg       1.00      1.00      1.00      1548\n",
      "weighted avg       1.00      1.00      1.00      1548\n",
      "\n"
     ]
    }
   ],
   "source": [
    "import pandas as pd\n",
    "import seaborn as sns\n",
    "import matplotlib.pyplot as plt\n",
    "from sklearn.metrics import confusion_matrix, classification_report\n",
    "\n",
    "def print_confusion_matrix(y_true, y_pred, report=True):\n",
    "    labels = sorted(list(set(y_true)))\n",
    "    cmx_data = confusion_matrix(y_true, y_pred, labels=labels)\n",
    "    \n",
    "    df_cmx = pd.DataFrame(cmx_data, index=labels, columns=labels)\n",
    " \n",
    "    fig, ax = plt.subplots(figsize=(7, 6))\n",
    "    sns.heatmap(df_cmx, annot=True, fmt='g' ,square=False)\n",
    "    ax.set_ylim(len(set(y_true)), 0)\n",
    "    plt.show()\n",
    "    \n",
    "    if report:\n",
    "        print('Classification Report')\n",
    "        print(classification_report(y_test, y_pred))\n",
    "\n",
    "Y_pred = model.predict(X_test)\n",
    "y_pred = np.argmax(Y_pred, axis=1)\n",
    "\n",
    "print_confusion_matrix(y_test, y_pred)"
   ]
  },
  {
   "cell_type": "markdown",
   "metadata": {
    "id": "FNP6aqzc9hE5"
   },
   "source": [
    "# Convert to model for Tensorflow-Lite"
   ]
  },
  {
   "cell_type": "code",
   "execution_count": 19,
   "metadata": {
    "id": "ODjnYyld9hE6"
   },
   "outputs": [],
   "source": [
    "# Save as a model dedicated to inference\n",
    "model.save(model_save_path, include_optimizer=False)"
   ]
  },
  {
   "cell_type": "code",
   "execution_count": 20,
   "metadata": {
    "colab": {
     "base_uri": "https://localhost:8080/"
    },
    "id": "zRfuK8Y59hE6",
    "outputId": "106250fb-84e1-4ee8-bc8e-dcedb2bfd31c"
   },
   "outputs": [
    {
     "name": "stdout",
     "output_type": "stream",
     "text": [
      "INFO:tensorflow:Assets written to: C:\\Users\\halor\\AppData\\Local\\Temp\\tmp61cgq4z5\\assets\n"
     ]
    },
    {
     "name": "stderr",
     "output_type": "stream",
     "text": [
      "WARNING:absl:Buffer deduplication procedure will be skipped when flatbuffer library is not properly loaded\n"
     ]
    },
    {
     "data": {
      "text/plain": [
       "7712"
      ]
     },
     "execution_count": 20,
     "metadata": {},
     "output_type": "execute_result"
    }
   ],
   "source": [
    "# Transform model (quantization)\n",
    "\n",
    "converter = tf.lite.TFLiteConverter.from_keras_model(model)\n",
    "converter.optimizations = [tf.lite.Optimize.DEFAULT]\n",
    "tflite_quantized_model = converter.convert()\n",
    "\n",
    "open(tflite_save_path, 'wb').write(tflite_quantized_model)"
   ]
  },
  {
   "cell_type": "markdown",
   "metadata": {
    "id": "CHBPBXdx9hE6"
   },
   "source": [
    "## Inference test"
   ]
  },
  {
   "cell_type": "code",
   "execution_count": null,
   "metadata": {
    "id": "mGAzLocO9hE7"
   },
   "outputs": [],
   "source": [
    "interpreter = tf.lite.Interpreter(model_path=tflite_save_path)\n",
    "interpreter.allocate_tensors()"
   ]
  },
  {
   "cell_type": "code",
   "execution_count": null,
   "metadata": {
    "id": "oQuDK8YS9hE7"
   },
   "outputs": [],
   "source": [
    "# Get I / O tensor\n",
    "input_details = interpreter.get_input_details()\n",
    "output_details = interpreter.get_output_details()"
   ]
  },
  {
   "cell_type": "code",
   "execution_count": null,
   "metadata": {
    "id": "2_ixAf_l9hE7"
   },
   "outputs": [],
   "source": [
    "interpreter.set_tensor(input_details[0]['index'], np.array([X_test[0]]))"
   ]
  },
  {
   "cell_type": "code",
   "execution_count": null,
   "metadata": {
    "colab": {
     "base_uri": "https://localhost:8080/"
    },
    "id": "s4FoAnuc9hE7",
    "outputId": "330d050b-a3fb-41ce-fa07-dc7a48d715e7",
    "scrolled": true
   },
   "outputs": [],
   "source": [
    "%%time\n",
    "# Inference implementation\n",
    "interpreter.invoke()\n",
    "tflite_results = interpreter.get_tensor(output_details[0]['index'])"
   ]
  },
  {
   "cell_type": "code",
   "execution_count": null,
   "metadata": {
    "colab": {
     "base_uri": "https://localhost:8080/"
    },
    "id": "vONjp19J9hE8",
    "outputId": "9338c9f1-499b-4e10-844d-950075e98a75"
   },
   "outputs": [],
   "source": [
    "print(np.squeeze(tflite_results))\n",
    "print(np.argmax(np.squeeze(tflite_results)))"
   ]
  },
  {
   "cell_type": "markdown",
   "metadata": {
    "id": "2GCHB0ELGs60"
   },
   "source": [
    "## Download model"
   ]
  },
  {
   "cell_type": "code",
   "execution_count": null,
   "metadata": {
    "colab": {
     "base_uri": "https://localhost:8080/"
    },
    "id": "a2jM8I3jGdF6",
    "outputId": "bd2c08cc-d57c-4589-e4fa-f80389176b96"
   },
   "outputs": [],
   "source": [
    "!zip -r model.zip keypoint_classifier  "
   ]
  },
  {
   "cell_type": "markdown",
   "metadata": {
    "id": "vEqyprC6cMVF"
   },
   "source": [
    "\n",
    "\n",
    "---\n",
    "\n",
    "\n",
    "# ❗️Hyperparameters Tuning"
   ]
  },
  {
   "cell_type": "code",
   "execution_count": null,
   "metadata": {
    "id": "KrjjSqlLcQ4O"
   },
   "outputs": [],
   "source": [
    "%load_ext tensorboard\n",
    "from tensorboard.plugins.hparams import api as hp"
   ]
  },
  {
   "cell_type": "code",
   "execution_count": null,
   "metadata": {
    "id": "YO6VffaRcY3R"
   },
   "outputs": [],
   "source": [
    "# Init parameters to tune\n",
    "HP_NUM_UNITS_1 = hp.HParam('num_units_1', hp.Discrete([16, 32, 64]))\n",
    "HP_NUM_UNITS_2 = hp.HParam('num_units_2', hp.Discrete([8, 16, 32]))\n",
    "HP_NUM_UNITS_3 = hp.HParam('num_units_3', hp.Discrete([8, 16, 32]))\n",
    "HP_DROPOUT = hp.HParam('dropout', hp.RealInterval(0.0, 0.2))\n",
    "HP_OPTIMIZER = hp.HParam('optimizer', hp.Discrete(['adam', 'sgd']))\n",
    "\n",
    "METRIC_ACCURACY = 'accuracy'"
   ]
  },
  {
   "cell_type": "code",
   "execution_count": null,
   "metadata": {
    "id": "eMysvzFxctmG"
   },
   "outputs": [],
   "source": [
    "with tf.summary.create_file_writer('logs/hparam_tuning').as_default():\n",
    "  hp.hparams_config(\n",
    "    hparams=[HP_NUM_UNITS_1,HP_NUM_UNITS_2,HP_NUM_UNITS_3, HP_DROPOUT, HP_OPTIMIZER],\n",
    "    metrics=[hp.Metric(METRIC_ACCURACY, display_name='Accuracy')],\n",
    "  )"
   ]
  },
  {
   "cell_type": "code",
   "execution_count": null,
   "metadata": {
    "id": "XSDYqpKZgOBw"
   },
   "outputs": [],
   "source": [
    "# Model checkpoint callback\n",
    "cp_callback = tf.keras.callbacks.ModelCheckpoint(\n",
    "    model_save_path, verbose=1, save_weights_only=False, save_best_only=True)\n",
    "# Callback for early stopping\n",
    "es_callback = tf.keras.callbacks.EarlyStopping(patience=15, verbose=1)"
   ]
  },
  {
   "cell_type": "code",
   "execution_count": null,
   "metadata": {
    "id": "8ssEmXpJcxSp"
   },
   "outputs": [],
   "source": [
    "def train_test_model(hparams):\n",
    "\n",
    "  model = tf.keras.models.Sequential([\n",
    "    tf.keras.layers.Input((21 * 2, )),\n",
    "    tf.keras.layers.Dropout(hparams[HP_DROPOUT]),\n",
    "    tf.keras.layers.Dense(hparams[HP_NUM_UNITS_1], activation='relu'),\n",
    "    tf.keras.layers.Dropout(hparams[HP_DROPOUT]),\n",
    "    tf.keras.layers.Dense(hparams[HP_NUM_UNITS_2], activation='relu'),\n",
    "    tf.keras.layers.Dropout(hparams[HP_DROPOUT]),\n",
    "    tf.keras.layers.Dense(hparams[HP_NUM_UNITS_3], activation='relu'),\n",
    "    tf.keras.layers.Dense(NUM_CLASSES, activation='softmax')\n",
    "])\n",
    "  \n",
    "  model.compile(\n",
    "    optimizer=hparams[HP_OPTIMIZER],\n",
    "    loss='sparse_categorical_crossentropy',\n",
    "    metrics=['accuracy']\n",
    ")\n",
    "  \n",
    "  cp_callback = tf.keras.callbacks.ModelCheckpoint(\n",
    "    model_save_path, verbose=1, save_weights_only=False, save_best_only=True)\n",
    "\n",
    "  model.fit(\n",
    "    X_train,\n",
    "    y_train,\n",
    "    epochs=50,\n",
    "    batch_size=64,\n",
    "    validation_data=(X_test, y_test),\n",
    "    callbacks=[\n",
    "               cp_callback,\n",
    "               es_callback,\n",
    "               ]\n",
    "  ) \n",
    "\n",
    "  # Load model with best accuracy\n",
    "  model = tf.keras.models.load_model(model_save_path)\n",
    "\n",
    "  _, accuracy = model.evaluate(X_test, y_test)\n",
    "  return accuracy\n",
    "\n",
    "def run(run_dir, hparams):\n",
    "  with tf.summary.create_file_writer(run_dir).as_default():\n",
    "    hp.hparams(hparams)  # record the values used in this trial\n",
    "    accuracy = train_test_model(hparams)\n",
    "    tf.summary.scalar(METRIC_ACCURACY, accuracy, step=1)"
   ]
  },
  {
   "cell_type": "code",
   "execution_count": null,
   "metadata": {
    "id": "5pO9W84DdHVL"
   },
   "outputs": [],
   "source": [
    "session_num = 0\n",
    "\n",
    "for num_units_1 in HP_NUM_UNITS_1.domain.values:\n",
    "  for num_units_2 in HP_NUM_UNITS_2.domain.values:\n",
    "    for num_units_3 in HP_NUM_UNITS_3.domain.values:\n",
    "      for dropout_rate in np.arange(HP_DROPOUT.domain.min_value, HP_DROPOUT.domain.max_value, 0.1):\n",
    "        for optimizer in HP_OPTIMIZER.domain.values:\n",
    "          hparams = {\n",
    "              HP_NUM_UNITS_1: num_units_1,\n",
    "              HP_NUM_UNITS_2: num_units_2,\n",
    "              HP_NUM_UNITS_3: num_units_3,\n",
    "              HP_DROPOUT: dropout_rate,\n",
    "              HP_OPTIMIZER: optimizer,\n",
    "          }\n",
    "          run_name = \"run-%d\" % session_num\n",
    "          print('--- Starting trial: %s' % run_name)\n",
    "          print({h.name: hparams[h] for h in hparams})\n",
    "          run('logs/hparam_tuning/' + run_name, hparams)\n",
    "          session_num += 1"
   ]
  },
  {
   "cell_type": "code",
   "execution_count": null,
   "metadata": {
    "id": "21knbMYldaUn"
   },
   "outputs": [],
   "source": [
    "# !ATTENTION! Works only in Colab\n",
    "# %tensorboard --logdir logs/hparam_tuning"
   ]
  },
  {
   "cell_type": "code",
   "execution_count": 17,
   "metadata": {
    "id": "J6_UH6jttBsD"
   },
   "outputs": [
    {
     "name": "stderr",
     "output_type": "stream",
     "text": [
      "'rm' is not recognized as an internal or external command,\n",
      "operable program or batch file.\n"
     ]
    }
   ],
   "source": [
    "!rm -rf logs"
   ]
  }
 ],
 "metadata": {
  "accelerator": "GPU",
  "colab": {
   "collapsed_sections": [],
   "name": "Keypoint_model_training.ipynb",
   "provenance": [],
   "toc_visible": true
  },
  "kernelspec": {
   "display_name": "Python 3 (ipykernel)",
   "language": "python",
   "name": "python3"
  },
  "language_info": {
   "codemirror_mode": {
    "name": "ipython",
    "version": 3
   },
   "file_extension": ".py",
   "mimetype": "text/x-python",
   "name": "python",
   "nbconvert_exporter": "python",
   "pygments_lexer": "ipython3",
   "version": "3.9.9"
  }
 },
 "nbformat": 4,
 "nbformat_minor": 4
}
