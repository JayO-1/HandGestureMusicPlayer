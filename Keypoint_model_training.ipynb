{
 "cells": [
  {
   "cell_type": "code",
   "execution_count": 3,
   "metadata": {
    "id": "igMyGnjE9hEp"
   },
   "outputs": [],
   "source": [
    "import csv\n",
    "\n",
    "import numpy as np\n",
    "import pandas as pd\n",
    "import tensorflow as tf\n",
    "from sklearn.model_selection import train_test_split\n",
    "\n",
    "RANDOM_SEED = 42"
   ]
  },
  {
   "cell_type": "markdown",
   "metadata": {},
   "source": [
    "## Processing dataset to obtain relevant gestures"
   ]
  },
  {
   "cell_type": "code",
   "execution_count": 14,
   "metadata": {},
   "outputs": [],
   "source": [
    "current_dataset = {}\n",
    "with open('model/keypoint_classifier/keypoint.csv', 'r') as file:\n",
    "    reader = csv.reader(file)\n",
    "    for row in reader:\n",
    "        gesture_id = int(row[0])\n",
    "        if gesture_id not in current_dataset:\n",
    "            current_dataset[gesture_id] = []\n",
    "        \n",
    "        current_dataset[gesture_id].append(row[1:])"
   ]
  },
  {
   "cell_type": "code",
   "execution_count": 17,
   "metadata": {},
   "outputs": [
    {
     "name": "stdout",
     "output_type": "stream",
     "text": [
      "1595\n",
      "1663\n",
      "1510\n",
      "672\n",
      "164\n",
      "257\n",
      "139\n",
      "190\n",
      "\n",
      "1595\n",
      "1663\n",
      "1510\n",
      "672\n",
      "164\n",
      "139\n",
      "190\n"
     ]
    }
   ],
   "source": [
    "for gesture in current_dataset.keys():\n",
    "    print(len(current_dataset[gesture]))\n",
    "    \n",
    "print()\n",
    "    \n",
    "with open('model/keypoint_classifier/keypoint_processed.csv', 'w', newline='') as file:\n",
    "    writer = csv.writer(file)\n",
    "    \n",
    "    current_gesture = 0\n",
    "    for gesture in current_dataset.keys():\n",
    "        if gesture != 5:\n",
    "            for sample in current_dataset[gesture]:\n",
    "                writer.writerow([str(current_gesture)] + sample)\n",
    "            \n",
    "            current_gesture += 1\n",
    "\n",
    "new_dataset = {}\n",
    "with open('model/keypoint_classifier/keypoint_processed.csv', 'r') as file:\n",
    "    reader = csv.reader(file)\n",
    "    for row in reader:\n",
    "        gesture_id = int(row[0])\n",
    "        if gesture_id not in new_dataset:\n",
    "            new_dataset[gesture_id] = []\n",
    "        \n",
    "        new_dataset[gesture_id].append(row[1:])\n",
    "\n",
    "for gesture in new_dataset.keys():\n",
    "    print(len(new_dataset[gesture]))"
   ]
  },
  {
   "cell_type": "markdown",
   "metadata": {
    "id": "t2HDvhIu9hEr"
   },
   "source": [
    "# Specify each path"
   ]
  },
  {
   "cell_type": "code",
   "execution_count": 10,
   "metadata": {
    "id": "9NvZP2Zn9hEy"
   },
   "outputs": [],
   "source": [
    "# Specify data paths\n",
    "dataset = 'model/keypoint_classifier/keypoint_processed.csv'\n",
    "model_save_path = 'model/keypoint_classifier/keypoint_classifier.hdf5'\n",
    "tflite_save_path = 'model/keypoint_classifier/keypoint_classifier.tflite'"
   ]
  },
  {
   "cell_type": "markdown",
   "metadata": {
    "id": "s5oMH7x19hEz"
   },
   "source": [
    "# Set number of classes"
   ]
  },
  {
   "cell_type": "code",
   "execution_count": 6,
   "metadata": {
    "id": "du4kodXL9hEz"
   },
   "outputs": [],
   "source": [
    "# Change training classes if necessary\n",
    "NUM_CLASSES = 7"
   ]
  },
  {
   "cell_type": "markdown",
   "metadata": {
    "id": "XjnL0uso9hEz"
   },
   "source": [
    "# Dataset reading"
   ]
  },
  {
   "cell_type": "code",
   "execution_count": 20,
   "metadata": {
    "id": "QT5ZqtEz9hE0"
   },
   "outputs": [],
   "source": [
    "X_dataset = np.loadtxt(dataset, delimiter=',', dtype='float32', usecols=list(range(1, (21 * 2) + 1)))"
   ]
  },
  {
   "cell_type": "code",
   "execution_count": 21,
   "metadata": {
    "id": "QmoKFsp49hE0"
   },
   "outputs": [],
   "source": [
    "y_dataset = np.loadtxt(dataset, delimiter=',', dtype='int32', usecols=(0))"
   ]
  },
  {
   "cell_type": "code",
   "execution_count": 22,
   "metadata": {
    "id": "xQU7JTZ_9hE0"
   },
   "outputs": [],
   "source": [
    "X_train, X_test, y_train, y_test = train_test_split(X_dataset, y_dataset, train_size=0.70, random_state=RANDOM_SEED)"
   ]
  },
  {
   "cell_type": "code",
   "execution_count": 29,
   "metadata": {
    "colab": {
     "base_uri": "https://localhost:8080/",
     "height": 279
    },
    "id": "xElG5FoPDQO9",
    "outputId": "2ef372ed-62e3-49c1-ad36-a5b5dc76701a"
   },
   "outputs": [
    {
     "name": "stdout",
     "output_type": "stream",
     "text": [
      "(array([0, 1, 2, 3, 4, 5, 6]), array([1595, 1663, 1510,  672,  164,  139,  190], dtype=int64))\n"
     ]
    },
    {
     "data": {
      "image/png": "[encoded data removed]",
      "text/plain": [
       "<Figure size 432x288 with 1 Axes>"
      ]
     },
     "metadata": {
      "needs_background": "light"
     },
     "output_type": "display_data"
    }
   ],
   "source": [
    "# Classes count\n",
    "counts = np.unique(y_dataset, return_counts=True)\n",
    "df = pd.DataFrame(counts)\n",
    "graph = df.T.plot(kind=\"bar\", stacked=True, title='Number of gestures per class')\n",
    "graph.set_xlabel(\"Class ID\")\n",
    "graph.set_ylabel(\"Count\")\n",
    "print(counts)"
   ]
  },
  {
   "cell_type": "markdown",
   "metadata": {
    "id": "mxK_lETT9hE0"
   },
   "source": [
    "# Model building"
   ]
  },
  {
   "cell_type": "code",
   "execution_count": 23,
   "metadata": {
    "id": "vHBmUf1t9hE1"
   },
   "outputs": [],
   "source": [
    "model = tf.keras.models.Sequential([\n",
    "    tf.keras.layers.Input((21 * 2, )),\n",
    "    tf.keras.layers.Dropout(0.0),\n",
    "    tf.keras.layers.Dense(32, activation='relu'),\n",
    "    tf.keras.layers.Dropout(0.0),\n",
    "    tf.keras.layers.Dense(32, activation='relu'),\n",
    "    tf.keras.layers.Dropout(0.0),\n",
    "    tf.keras.layers.Dense(32, activation='relu'),\n",
    "    tf.keras.layers.Dense(NUM_CLASSES, activation='softmax')\n",
    "])"
   ]
  },
  {
   "cell_type": "code",
   "execution_count": 24,
   "metadata": {
    "colab": {
     "base_uri": "https://localhost:8080/"
    },
    "id": "ypqky9tc9hE1",
    "outputId": "c42f3550-ceee-45b8-d40d-d99fd84a2616"
   },
   "outputs": [
    {
     "name": "stdout",
     "output_type": "stream",
     "text": [
      "Model: \"sequential_2\"\n",
      "_________________________________________________________________\n",
      " Layer (type)                Output Shape              Param #   \n",
      "=================================================================\n",
      " dropout_9 (Dropout)         (None, 42)                0         \n",
      "                                                                 \n",
      " dense_11 (Dense)            (None, 32)                1376      \n",
      "                                                                 \n",
      " dropout_10 (Dropout)        (None, 32)                0         \n",
      "                                                                 \n",
      " dense_12 (Dense)            (None, 32)                1056      \n",
      "                                                                 \n",
      " dropout_11 (Dropout)        (None, 32)                0         \n",
      "                                                                 \n",
      " dense_13 (Dense)            (None, 32)                1056      \n",
      "                                                                 \n",
      " dense_14 (Dense)            (None, 7)                 231       \n",
      "                                                                 \n",
      "=================================================================\n",
      "Total params: 3,719\n",
      "Trainable params: 3,719\n",
      "Non-trainable params: 0\n",
      "_________________________________________________________________\n"
     ]
    }
   ],
   "source": [
    "model.summary()  # tf.keras.utils.plot_model(model, show_shapes=True)"
   ]
  },
  {
   "cell_type": "code",
   "execution_count": 25,
   "metadata": {
    "id": "MbMjOflQ9hE1"
   },
   "outputs": [],
   "source": [
    "# Model checkpoint callback\n",
    "cp_callback = tf.keras.callbacks.ModelCheckpoint(\n",
    "    model_save_path, verbose=1, save_weights_only=False, save_best_only=True)\n",
    "# Callback for early stopping\n",
    "es_callback = tf.keras.callbacks.EarlyStopping(patience=50, verbose=1)"
   ]
  },
  {
   "cell_type": "code",
   "execution_count": 26,
   "metadata": {
    "id": "c3Dac0M_9hE2"
   },
   "outputs": [],
   "source": [
    "# Model compilation\n",
    "model.compile(\n",
    "    optimizer='adam',\n",
    "    loss='sparse_categorical_crossentropy',\n",
    "    metrics=['accuracy']\n",
    ")"
   ]
  },
  {
   "cell_type": "markdown",
   "metadata": {
    "id": "7XI0j1Iu9hE2"
   },
   "source": [
    "# Model training"
   ]
  },
  {
   "cell_type": "code",
   "execution_count": 27,
   "metadata": {
    "id": "WirBl-JE9hE3",
    "scrolled": true
   },
   "outputs": [
    {
     "name": "stdout",
     "output_type": "stream",
     "text": [
      "Epoch 1/1000\n",
      "53/65 [=======================>......] - ETA: 0s - loss: 1.7198 - accuracy: 0.3328\n",
      "Epoch 00001: val_loss improved from inf to 1.31104, saving model to model/keypoint_classifier\\keypoint_classifier.hdf5\n",
      "65/65 [==============================] - 2s 13ms/step - loss: 1.6627 - accuracy: 0.3441 - val_loss: 1.3110 - val_accuracy: 0.5303\n",
      "Epoch 2/1000\n",
      "62/65 [===========================>..] - ETA: 0s - loss: 1.0141 - accuracy: 0.7054\n",
      "Epoch 00002: val_loss improved from 1.31104 to 0.70686, saving model to model/keypoint_classifier\\keypoint_classifier.hdf5\n",
      "65/65 [==============================] - 0s 7ms/step - loss: 1.0009 - accuracy: 0.7098 - val_loss: 0.7069 - val_accuracy: 0.8309\n",
      "Epoch 3/1000\n",
      "61/65 [===========================>..] - ETA: 0s - loss: 0.5196 - accuracy: 0.8648\n",
      "Epoch 00003: val_loss improved from 0.70686 to 0.36997, saving model to model/keypoint_classifier\\keypoint_classifier.hdf5\n",
      "65/65 [==============================] - 0s 7ms/step - loss: 0.5125 - accuracy: 0.8661 - val_loss: 0.3700 - val_accuracy: 0.9062\n",
      "Epoch 4/1000\n",
      "59/65 [==========================>...] - ETA: 0s - loss: 0.2856 - accuracy: 0.9311\n",
      "Epoch 00004: val_loss improved from 0.36997 to 0.23402, saving model to model/keypoint_classifier\\keypoint_classifier.hdf5\n",
      "65/65 [==============================] - 0s 8ms/step - loss: 0.2813 - accuracy: 0.9321 - val_loss: 0.2340 - val_accuracy: 0.9511\n",
      "Epoch 5/1000\n",
      "64/65 [============================>.] - ETA: 0s - loss: 0.1814 - accuracy: 0.9656\n",
      "Epoch 00005: val_loss improved from 0.23402 to 0.16985, saving model to model/keypoint_classifier\\keypoint_classifier.hdf5\n",
      "65/65 [==============================] - 1s 8ms/step - loss: 0.1811 - accuracy: 0.9656 - val_loss: 0.1698 - val_accuracy: 0.9612\n",
      "Epoch 6/1000\n",
      "60/65 [==========================>...] - ETA: 0s - loss: 0.1323 - accuracy: 0.9763\n",
      "Epoch 00006: val_loss improved from 0.16985 to 0.13586, saving model to model/keypoint_classifier\\keypoint_classifier.hdf5\n",
      "65/65 [==============================] - 0s 7ms/step - loss: 0.1319 - accuracy: 0.9762 - val_loss: 0.1359 - val_accuracy: 0.9674\n",
      "Epoch 7/1000\n",
      "61/65 [===========================>..] - ETA: 0s - loss: 0.1068 - accuracy: 0.9803\n",
      "Epoch 00007: val_loss improved from 0.13586 to 0.11461, saving model to model/keypoint_classifier\\keypoint_classifier.hdf5\n",
      "65/65 [==============================] - 0s 7ms/step - loss: 0.1044 - accuracy: 0.9807 - val_loss: 0.1146 - val_accuracy: 0.9764\n",
      "Epoch 8/1000\n",
      "59/65 [==========================>...] - ETA: 0s - loss: 0.0863 - accuracy: 0.9852\n",
      "Epoch 00008: val_loss improved from 0.11461 to 0.10218, saving model to model/keypoint_classifier\\keypoint_classifier.hdf5\n",
      "65/65 [==============================] - 0s 7ms/step - loss: 0.0877 - accuracy: 0.9848 - val_loss: 0.1022 - val_accuracy: 0.9792\n",
      "Epoch 9/1000\n",
      "63/65 [============================>.] - ETA: 0s - loss: 0.0748 - accuracy: 0.9866\n",
      "Epoch 00009: val_loss improved from 0.10218 to 0.08813, saving model to model/keypoint_classifier\\keypoint_classifier.hdf5\n",
      "65/65 [==============================] - 0s 6ms/step - loss: 0.0754 - accuracy: 0.9860 - val_loss: 0.0881 - val_accuracy: 0.9803\n",
      "Epoch 10/1000\n",
      "50/65 [======================>.......] - ETA: 0s - loss: 0.0639 - accuracy: 0.9869\n",
      "Epoch 00010: val_loss improved from 0.08813 to 0.07963, saving model to model/keypoint_classifier\\keypoint_classifier.hdf5\n",
      "65/65 [==============================] - 0s 6ms/step - loss: 0.0660 - accuracy: 0.9875 - val_loss: 0.0796 - val_accuracy: 0.9809\n",
      "Epoch 11/1000\n",
      "65/65 [==============================] - ETA: 0s - loss: 0.0594 - accuracy: 0.9889\n",
      "Epoch 00011: val_loss improved from 0.07963 to 0.07855, saving model to model/keypoint_classifier\\keypoint_classifier.hdf5\n",
      "65/65 [==============================] - 0s 6ms/step - loss: 0.0594 - accuracy: 0.9889 - val_loss: 0.0785 - val_accuracy: 0.9826\n",
      "Epoch 12/1000\n",
      "50/65 [======================>.......] - ETA: 0s - loss: 0.0594 - accuracy: 0.9872\n",
      "Epoch 00012: val_loss improved from 0.07855 to 0.07107, saving model to model/keypoint_classifier\\keypoint_classifier.hdf5\n",
      "65/65 [==============================] - 0s 6ms/step - loss: 0.0577 - accuracy: 0.9875 - val_loss: 0.0711 - val_accuracy: 0.9815\n",
      "Epoch 13/1000\n",
      "57/65 [=========================>....] - ETA: 0s - loss: 0.0499 - accuracy: 0.9912\n",
      "Epoch 00013: val_loss improved from 0.07107 to 0.06887, saving model to model/keypoint_classifier\\keypoint_classifier.hdf5\n",
      "65/65 [==============================] - 0s 7ms/step - loss: 0.0471 - accuracy: 0.9923 - val_loss: 0.0689 - val_accuracy: 0.9848\n",
      "Epoch 14/1000\n",
      "64/65 [============================>.] - ETA: 0s - loss: 0.0452 - accuracy: 0.9912\n",
      "Epoch 00014: val_loss did not improve from 0.06887\n",
      "65/65 [==============================] - 0s 6ms/step - loss: 0.0449 - accuracy: 0.9913 - val_loss: 0.0752 - val_accuracy: 0.9809\n",
      "Epoch 15/1000\n",
      "50/65 [======================>.......] - ETA: 0s - loss: 0.0376 - accuracy: 0.9931\n",
      "Epoch 00015: val_loss improved from 0.06887 to 0.05528, saving model to model/keypoint_classifier\\keypoint_classifier.hdf5\n",
      "65/65 [==============================] - 0s 6ms/step - loss: 0.0407 - accuracy: 0.9921 - val_loss: 0.0553 - val_accuracy: 0.9871\n",
      "Epoch 16/1000\n",
      "65/65 [==============================] - ETA: 0s - loss: 0.0418 - accuracy: 0.9916\n",
      "Epoch 00016: val_loss did not improve from 0.05528\n",
      "65/65 [==============================] - 0s 5ms/step - loss: 0.0418 - accuracy: 0.9916 - val_loss: 0.0588 - val_accuracy: 0.9860\n",
      "Epoch 17/1000\n",
      "63/65 [============================>.] - ETA: 0s - loss: 0.0368 - accuracy: 0.9928\n",
      "Epoch 00017: val_loss improved from 0.05528 to 0.05391, saving model to model/keypoint_classifier\\keypoint_classifier.hdf5\n",
      "65/65 [==============================] - 0s 6ms/step - loss: 0.0371 - accuracy: 0.9923 - val_loss: 0.0539 - val_accuracy: 0.9860\n",
      "Epoch 18/1000\n",
      "50/65 [======================>.......] - ETA: 0s - loss: 0.0368 - accuracy: 0.9931\n",
      "Epoch 00018: val_loss improved from 0.05391 to 0.04957, saving model to model/keypoint_classifier\\keypoint_classifier.hdf5\n",
      "65/65 [==============================] - 0s 6ms/step - loss: 0.0338 - accuracy: 0.9937 - val_loss: 0.0496 - val_accuracy: 0.9876\n",
      "Epoch 19/1000\n",
      "50/65 [======================>.......] - ETA: 0s - loss: 0.0286 - accuracy: 0.9937\n",
      "Epoch 00019: val_loss improved from 0.04957 to 0.04812, saving model to model/keypoint_classifier\\keypoint_classifier.hdf5\n",
      "65/65 [==============================] - 0s 6ms/step - loss: 0.0303 - accuracy: 0.9940 - val_loss: 0.0481 - val_accuracy: 0.9876\n",
      "Epoch 20/1000\n",
      "65/65 [==============================] - ETA: 0s - loss: 0.0288 - accuracy: 0.9930\n",
      "Epoch 00020: val_loss did not improve from 0.04812\n",
      "65/65 [==============================] - 0s 5ms/step - loss: 0.0288 - accuracy: 0.9930 - val_loss: 0.0482 - val_accuracy: 0.9871\n",
      "Epoch 21/1000\n",
      "64/65 [============================>.] - ETA: 0s - loss: 0.0269 - accuracy: 0.9944\n",
      "Epoch 00021: val_loss did not improve from 0.04812\n",
      "65/65 [==============================] - 0s 5ms/step - loss: 0.0267 - accuracy: 0.9945 - val_loss: 0.0495 - val_accuracy: 0.9871\n",
      "Epoch 22/1000\n",
      "65/65 [==============================] - ETA: 0s - loss: 0.0256 - accuracy: 0.9954\n",
      "Epoch 00022: val_loss improved from 0.04812 to 0.04664, saving model to model/keypoint_classifier\\keypoint_classifier.hdf5\n",
      "65/65 [==============================] - 0s 6ms/step - loss: 0.0256 - accuracy: 0.9954 - val_loss: 0.0466 - val_accuracy: 0.9882\n",
      "Epoch 23/1000\n",
      "65/65 [==============================] - ETA: 0s - loss: 0.0246 - accuracy: 0.9940\n",
      "Epoch 00023: val_loss improved from 0.04664 to 0.04011, saving model to model/keypoint_classifier\\keypoint_classifier.hdf5\n",
      "65/65 [==============================] - 0s 6ms/step - loss: 0.0246 - accuracy: 0.9940 - val_loss: 0.0401 - val_accuracy: 0.9876\n",
      "Epoch 24/1000\n",
      "64/65 [============================>.] - ETA: 0s - loss: 0.0230 - accuracy: 0.9956\n",
      "Epoch 00024: val_loss did not improve from 0.04011\n",
      "65/65 [==============================] - 0s 5ms/step - loss: 0.0238 - accuracy: 0.9954 - val_loss: 0.0406 - val_accuracy: 0.9876\n",
      "Epoch 25/1000\n",
      "50/65 [======================>.......] - ETA: 0s - loss: 0.0249 - accuracy: 0.9950\n",
      "Epoch 00025: val_loss did not improve from 0.04011\n",
      "65/65 [==============================] - 0s 5ms/step - loss: 0.0239 - accuracy: 0.9957 - val_loss: 0.0476 - val_accuracy: 0.9882\n",
      "Epoch 26/1000\n",
      "65/65 [==============================] - ETA: 0s - loss: 0.0214 - accuracy: 0.9949\n",
      "Epoch 00026: val_loss did not improve from 0.04011\n",
      "65/65 [==============================] - 0s 5ms/step - loss: 0.0214 - accuracy: 0.9949 - val_loss: 0.0422 - val_accuracy: 0.9876\n",
      "Epoch 27/1000\n",
      "65/65 [==============================] - ETA: 0s - loss: 0.0219 - accuracy: 0.9952\n",
      "Epoch 00027: val_loss improved from 0.04011 to 0.03497, saving model to model/keypoint_classifier\\keypoint_classifier.hdf5\n",
      "65/65 [==============================] - 0s 6ms/step - loss: 0.0219 - accuracy: 0.9952 - val_loss: 0.0350 - val_accuracy: 0.9893\n",
      "Epoch 28/1000\n",
      "64/65 [============================>.] - ETA: 0s - loss: 0.0212 - accuracy: 0.9951\n",
      "Epoch 00028: val_loss did not improve from 0.03497\n",
      "65/65 [==============================] - 0s 6ms/step - loss: 0.0214 - accuracy: 0.9949 - val_loss: 0.0427 - val_accuracy: 0.9904\n",
      "Epoch 29/1000\n",
      "51/65 [======================>.......] - ETA: 0s - loss: 0.0171 - accuracy: 0.9963\n",
      "Epoch 00029: val_loss did not improve from 0.03497\n",
      "65/65 [==============================] - 0s 5ms/step - loss: 0.0188 - accuracy: 0.9961 - val_loss: 0.0382 - val_accuracy: 0.9893\n",
      "Epoch 30/1000\n",
      "50/65 [======================>.......] - ETA: 0s - loss: 0.0133 - accuracy: 0.9972\n",
      "Epoch 00030: val_loss improved from 0.03497 to 0.03243, saving model to model/keypoint_classifier\\keypoint_classifier.hdf5\n",
      "65/65 [==============================] - 0s 6ms/step - loss: 0.0184 - accuracy: 0.9961 - val_loss: 0.0324 - val_accuracy: 0.9910\n",
      "Epoch 31/1000\n",
      "65/65 [==============================] - ETA: 0s - loss: 0.0177 - accuracy: 0.9969\n",
      "Epoch 00031: val_loss did not improve from 0.03243\n",
      "65/65 [==============================] - 0s 5ms/step - loss: 0.0177 - accuracy: 0.9969 - val_loss: 0.0347 - val_accuracy: 0.9893\n",
      "Epoch 32/1000\n",
      "65/65 [==============================] - ETA: 0s - loss: 0.0156 - accuracy: 0.9971\n",
      "Epoch 00032: val_loss did not improve from 0.03243\n",
      "65/65 [==============================] - 0s 5ms/step - loss: 0.0156 - accuracy: 0.9971 - val_loss: 0.0411 - val_accuracy: 0.9876\n",
      "Epoch 33/1000\n",
      "65/65 [==============================] - ETA: 0s - loss: 0.0158 - accuracy: 0.9969\n",
      "Epoch 00033: val_loss did not improve from 0.03243\n",
      "65/65 [==============================] - 0s 5ms/step - loss: 0.0158 - accuracy: 0.9969 - val_loss: 0.0449 - val_accuracy: 0.9888\n",
      "Epoch 34/1000\n",
      "62/65 [===========================>..] - ETA: 0s - loss: 0.0141 - accuracy: 0.9975\n",
      "Epoch 00034: val_loss did not improve from 0.03243\n",
      "65/65 [==============================] - 0s 5ms/step - loss: 0.0144 - accuracy: 0.9974 - val_loss: 0.0349 - val_accuracy: 0.9882\n",
      "Epoch 35/1000\n",
      "65/65 [==============================] - ETA: 0s - loss: 0.0147 - accuracy: 0.9964\n",
      "Epoch 00035: val_loss did not improve from 0.03243\n",
      "65/65 [==============================] - 0s 5ms/step - loss: 0.0147 - accuracy: 0.9964 - val_loss: 0.0352 - val_accuracy: 0.9882\n",
      "Epoch 36/1000\n",
      "65/65 [==============================] - ETA: 0s - loss: 0.0131 - accuracy: 0.9971\n",
      "Epoch 00036: val_loss did not improve from 0.03243\n",
      "65/65 [==============================] - 0s 5ms/step - loss: 0.0131 - accuracy: 0.9971 - val_loss: 0.0377 - val_accuracy: 0.9876\n",
      "Epoch 37/1000\n",
      "50/65 [======================>.......] - ETA: 0s - loss: 0.0157 - accuracy: 0.9969\n",
      "Epoch 00037: val_loss improved from 0.03243 to 0.03135, saving model to model/keypoint_classifier\\keypoint_classifier.hdf5\n",
      "65/65 [==============================] - 0s 6ms/step - loss: 0.0143 - accuracy: 0.9971 - val_loss: 0.0313 - val_accuracy: 0.9910\n",
      "Epoch 38/1000\n",
      "65/65 [==============================] - ETA: 0s - loss: 0.0141 - accuracy: 0.9974\n",
      "Epoch 00038: val_loss did not improve from 0.03135\n",
      "65/65 [==============================] - 0s 5ms/step - loss: 0.0141 - accuracy: 0.9974 - val_loss: 0.0425 - val_accuracy: 0.9888\n",
      "Epoch 39/1000\n",
      "65/65 [==============================] - ETA: 0s - loss: 0.0144 - accuracy: 0.9966\n",
      "Epoch 00039: val_loss improved from 0.03135 to 0.03114, saving model to model/keypoint_classifier\\keypoint_classifier.hdf5\n",
      "65/65 [==============================] - 0s 6ms/step - loss: 0.0144 - accuracy: 0.9966 - val_loss: 0.0311 - val_accuracy: 0.9893\n",
      "Epoch 40/1000\n",
      "59/65 [==========================>...] - ETA: 0s - loss: 0.0115 - accuracy: 0.9979\n",
      "Epoch 00040: val_loss improved from 0.03114 to 0.02780, saving model to model/keypoint_classifier\\keypoint_classifier.hdf5\n",
      "65/65 [==============================] - 1s 8ms/step - loss: 0.0114 - accuracy: 0.9978 - val_loss: 0.0278 - val_accuracy: 0.9899\n",
      "Epoch 41/1000\n",
      "55/65 [========================>.....] - ETA: 0s - loss: 0.0120 - accuracy: 0.9974\n",
      "Epoch 00041: val_loss improved from 0.02780 to 0.02683, saving model to model/keypoint_classifier\\keypoint_classifier.hdf5\n",
      "65/65 [==============================] - 1s 8ms/step - loss: 0.0121 - accuracy: 0.9974 - val_loss: 0.0268 - val_accuracy: 0.9921\n",
      "Epoch 42/1000\n",
      "53/65 [=======================>......] - ETA: 0s - loss: 0.0110 - accuracy: 0.9976\n",
      "Epoch 00042: val_loss did not improve from 0.02683\n",
      "65/65 [==============================] - 0s 6ms/step - loss: 0.0124 - accuracy: 0.9976 - val_loss: 0.0311 - val_accuracy: 0.9899\n",
      "Epoch 43/1000\n",
      "63/65 [============================>.] - ETA: 0s - loss: 0.0111 - accuracy: 0.9968\n",
      "Epoch 00043: val_loss did not improve from 0.02683\n",
      "65/65 [==============================] - 0s 7ms/step - loss: 0.0109 - accuracy: 0.9969 - val_loss: 0.0297 - val_accuracy: 0.9921\n",
      "Epoch 44/1000\n",
      "58/65 [=========================>....] - ETA: 0s - loss: 0.0103 - accuracy: 0.9973\n",
      "Epoch 00044: val_loss did not improve from 0.02683\n",
      "65/65 [==============================] - 0s 6ms/step - loss: 0.0095 - accuracy: 0.9976 - val_loss: 0.0275 - val_accuracy: 0.9938\n",
      "Epoch 45/1000\n",
      "57/65 [=========================>....] - ETA: 0s - loss: 0.0117 - accuracy: 0.9970\n",
      "Epoch 00045: val_loss improved from 0.02683 to 0.02630, saving model to model/keypoint_classifier\\keypoint_classifier.hdf5\n",
      "65/65 [==============================] - 1s 8ms/step - loss: 0.0107 - accuracy: 0.9974 - val_loss: 0.0263 - val_accuracy: 0.9910\n",
      "Epoch 46/1000\n",
      "62/65 [===========================>..] - ETA: 0s - loss: 0.0096 - accuracy: 0.9975\n",
      "Epoch 00046: val_loss did not improve from 0.02630\n",
      "65/65 [==============================] - 0s 7ms/step - loss: 0.0093 - accuracy: 0.9976 - val_loss: 0.0300 - val_accuracy: 0.9910\n",
      "Epoch 47/1000\n",
      "54/65 [=======================>......] - ETA: 0s - loss: 0.0112 - accuracy: 0.9968\n",
      "Epoch 00047: val_loss did not improve from 0.02630\n",
      "65/65 [==============================] - 0s 7ms/step - loss: 0.0103 - accuracy: 0.9974 - val_loss: 0.0355 - val_accuracy: 0.9904\n",
      "Epoch 48/1000\n",
      "52/65 [=======================>......] - ETA: 0s - loss: 0.0096 - accuracy: 0.9979\n",
      "Epoch 00048: val_loss did not improve from 0.02630\n",
      "65/65 [==============================] - 0s 7ms/step - loss: 0.0103 - accuracy: 0.9976 - val_loss: 0.0359 - val_accuracy: 0.9888\n",
      "Epoch 49/1000\n",
      "60/65 [==========================>...] - ETA: 0s - loss: 0.0090 - accuracy: 0.9979\n",
      "Epoch 00049: val_loss did not improve from 0.02630\n",
      "65/65 [==============================] - 0s 7ms/step - loss: 0.0088 - accuracy: 0.9981 - val_loss: 0.0297 - val_accuracy: 0.9933\n",
      "Epoch 50/1000\n",
      "52/65 [=======================>......] - ETA: 0s - loss: 0.0073 - accuracy: 0.9985\n",
      "Epoch 00050: val_loss improved from 0.02630 to 0.02431, saving model to model/keypoint_classifier\\keypoint_classifier.hdf5\n",
      "65/65 [==============================] - 0s 7ms/step - loss: 0.0078 - accuracy: 0.9986 - val_loss: 0.0243 - val_accuracy: 0.9921\n",
      "Epoch 51/1000\n",
      "58/65 [=========================>....] - ETA: 0s - loss: 0.0087 - accuracy: 0.9978\n",
      "Epoch 00051: val_loss did not improve from 0.02431\n",
      "65/65 [==============================] - 0s 6ms/step - loss: 0.0086 - accuracy: 0.9981 - val_loss: 0.0265 - val_accuracy: 0.9938\n",
      "Epoch 52/1000\n",
      "54/65 [=======================>......] - ETA: 0s - loss: 0.0063 - accuracy: 0.9988\n",
      "Epoch 00052: val_loss did not improve from 0.02431\n",
      "65/65 [==============================] - 0s 6ms/step - loss: 0.0073 - accuracy: 0.9988 - val_loss: 0.0245 - val_accuracy: 0.9938\n",
      "Epoch 53/1000\n",
      "53/65 [=======================>......] - ETA: 0s - loss: 0.0083 - accuracy: 0.9979\n",
      "Epoch 00053: val_loss did not improve from 0.02431\n",
      "65/65 [==============================] - 0s 6ms/step - loss: 0.0097 - accuracy: 0.9976 - val_loss: 0.0314 - val_accuracy: 0.9893\n",
      "Epoch 54/1000\n",
      "60/65 [==========================>...] - ETA: 0s - loss: 0.0097 - accuracy: 0.9971\n",
      "Epoch 00054: val_loss did not improve from 0.02431\n",
      "65/65 [==============================] - 0s 6ms/step - loss: 0.0096 - accuracy: 0.9971 - val_loss: 0.0294 - val_accuracy: 0.9916\n",
      "Epoch 55/1000\n",
      "56/65 [========================>.....] - ETA: 0s - loss: 0.0075 - accuracy: 0.9975\n",
      "Epoch 00055: val_loss improved from 0.02431 to 0.02377, saving model to model/keypoint_classifier\\keypoint_classifier.hdf5\n",
      "65/65 [==============================] - 0s 7ms/step - loss: 0.0067 - accuracy: 0.9978 - val_loss: 0.0238 - val_accuracy: 0.9927\n",
      "Epoch 56/1000\n",
      "62/65 [===========================>..] - ETA: 0s - loss: 0.0067 - accuracy: 0.9982\n",
      "Epoch 00056: val_loss did not improve from 0.02377\n",
      "65/65 [==============================] - 0s 6ms/step - loss: 0.0064 - accuracy: 0.9983 - val_loss: 0.0248 - val_accuracy: 0.9938\n",
      "Epoch 57/1000\n",
      "56/65 [========================>.....] - ETA: 0s - loss: 0.0078 - accuracy: 0.9980\n",
      "Epoch 00057: val_loss did not improve from 0.02377\n",
      "65/65 [==============================] - 0s 6ms/step - loss: 0.0073 - accuracy: 0.9983 - val_loss: 0.0240 - val_accuracy: 0.9933\n",
      "Epoch 58/1000\n",
      "64/65 [============================>.] - ETA: 0s - loss: 0.0065 - accuracy: 0.9988\n",
      "Epoch 00058: val_loss improved from 0.02377 to 0.02196, saving model to model/keypoint_classifier\\keypoint_classifier.hdf5\n",
      "65/65 [==============================] - 1s 8ms/step - loss: 0.0065 - accuracy: 0.9988 - val_loss: 0.0220 - val_accuracy: 0.9938\n",
      "Epoch 59/1000\n",
      "62/65 [===========================>..] - ETA: 0s - loss: 0.0072 - accuracy: 0.9980\n",
      "Epoch 00059: val_loss did not improve from 0.02196\n",
      "65/65 [==============================] - 0s 7ms/step - loss: 0.0079 - accuracy: 0.9978 - val_loss: 0.0250 - val_accuracy: 0.9944\n",
      "Epoch 60/1000\n",
      "54/65 [=======================>......] - ETA: 0s - loss: 0.0063 - accuracy: 0.9983\n",
      "Epoch 00060: val_loss did not improve from 0.02196\n",
      "65/65 [==============================] - 0s 7ms/step - loss: 0.0075 - accuracy: 0.9981 - val_loss: 0.0251 - val_accuracy: 0.9938\n",
      "Epoch 61/1000\n",
      "55/65 [========================>.....] - ETA: 0s - loss: 0.0069 - accuracy: 0.9974\n",
      "Epoch 00061: val_loss did not improve from 0.02196\n",
      "65/65 [==============================] - 0s 7ms/step - loss: 0.0064 - accuracy: 0.9978 - val_loss: 0.0242 - val_accuracy: 0.9938\n",
      "Epoch 62/1000\n",
      "59/65 [==========================>...] - ETA: 0s - loss: 0.0055 - accuracy: 0.9987\n",
      "Epoch 00062: val_loss did not improve from 0.02196\n",
      "65/65 [==============================] - 0s 6ms/step - loss: 0.0052 - accuracy: 0.9988 - val_loss: 0.0231 - val_accuracy: 0.9938\n",
      "Epoch 63/1000\n",
      "60/65 [==========================>...] - ETA: 0s - loss: 0.0061 - accuracy: 0.9984\n",
      "Epoch 00063: val_loss did not improve from 0.02196\n",
      "65/65 [==============================] - 0s 5ms/step - loss: 0.0058 - accuracy: 0.9986 - val_loss: 0.0285 - val_accuracy: 0.9916\n",
      "Epoch 64/1000\n",
      "58/65 [=========================>....] - ETA: 0s - loss: 0.0079 - accuracy: 0.9981\n",
      "Epoch 00064: val_loss did not improve from 0.02196\n",
      "65/65 [==============================] - 0s 6ms/step - loss: 0.0078 - accuracy: 0.9981 - val_loss: 0.0256 - val_accuracy: 0.9938\n",
      "Epoch 65/1000\n",
      "63/65 [============================>.] - ETA: 0s - loss: 0.0059 - accuracy: 0.9983\n",
      "Epoch 00065: val_loss did not improve from 0.02196\n",
      "65/65 [==============================] - 0s 5ms/step - loss: 0.0059 - accuracy: 0.9981 - val_loss: 0.0245 - val_accuracy: 0.9955\n",
      "Epoch 66/1000\n",
      "61/65 [===========================>..] - ETA: 0s - loss: 0.0055 - accuracy: 0.9974\n",
      "Epoch 00066: val_loss improved from 0.02196 to 0.02110, saving model to model/keypoint_classifier\\keypoint_classifier.hdf5\n",
      "65/65 [==============================] - 0s 7ms/step - loss: 0.0055 - accuracy: 0.9974 - val_loss: 0.0211 - val_accuracy: 0.9955\n",
      "Epoch 67/1000\n",
      "53/65 [=======================>......] - ETA: 0s - loss: 0.0038 - accuracy: 0.9997\n",
      "Epoch 00067: val_loss did not improve from 0.02110\n",
      "65/65 [==============================] - 0s 6ms/step - loss: 0.0045 - accuracy: 0.9993 - val_loss: 0.0232 - val_accuracy: 0.9938\n",
      "Epoch 68/1000\n",
      "60/65 [==========================>...] - ETA: 0s - loss: 0.0058 - accuracy: 0.9987\n",
      "Epoch 00068: val_loss did not improve from 0.02110\n",
      "65/65 [==============================] - 0s 6ms/step - loss: 0.0057 - accuracy: 0.9988 - val_loss: 0.0261 - val_accuracy: 0.9938\n",
      "Epoch 69/1000\n",
      "61/65 [===========================>..] - ETA: 0s - loss: 0.0051 - accuracy: 0.9987\n",
      "Epoch 00069: val_loss did not improve from 0.02110\n",
      "65/65 [==============================] - 0s 6ms/step - loss: 0.0049 - accuracy: 0.9988 - val_loss: 0.0250 - val_accuracy: 0.9938\n",
      "Epoch 70/1000\n",
      "63/65 [============================>.] - ETA: 0s - loss: 0.0053 - accuracy: 0.9985\n",
      "Epoch 00070: val_loss did not improve from 0.02110\n",
      "65/65 [==============================] - 0s 7ms/step - loss: 0.0053 - accuracy: 0.9986 - val_loss: 0.0270 - val_accuracy: 0.9933\n",
      "Epoch 71/1000\n",
      "58/65 [=========================>....] - ETA: 0s - loss: 0.0040 - accuracy: 0.9992\n",
      "Epoch 00071: val_loss did not improve from 0.02110\n",
      "65/65 [==============================] - 0s 6ms/step - loss: 0.0039 - accuracy: 0.9993 - val_loss: 0.0247 - val_accuracy: 0.9949\n",
      "Epoch 72/1000\n",
      "57/65 [=========================>....] - ETA: 0s - loss: 0.0041 - accuracy: 0.9992\n",
      "Epoch 00072: val_loss did not improve from 0.02110\n",
      "65/65 [==============================] - 0s 6ms/step - loss: 0.0045 - accuracy: 0.9988 - val_loss: 0.0256 - val_accuracy: 0.9938\n",
      "Epoch 73/1000\n",
      "62/65 [===========================>..] - ETA: 0s - loss: 0.0043 - accuracy: 0.9987\n",
      "Epoch 00073: val_loss did not improve from 0.02110\n",
      "65/65 [==============================] - 0s 6ms/step - loss: 0.0042 - accuracy: 0.9988 - val_loss: 0.0220 - val_accuracy: 0.9955\n",
      "Epoch 74/1000\n",
      "63/65 [============================>.] - ETA: 0s - loss: 0.0045 - accuracy: 0.9985\n",
      "Epoch 00074: val_loss did not improve from 0.02110\n",
      "65/65 [==============================] - 0s 5ms/step - loss: 0.0044 - accuracy: 0.9986 - val_loss: 0.0214 - val_accuracy: 0.9949\n",
      "Epoch 75/1000\n",
      "62/65 [===========================>..] - ETA: 0s - loss: 0.0054 - accuracy: 0.9980\n",
      "Epoch 00075: val_loss did not improve from 0.02110\n",
      "65/65 [==============================] - 0s 6ms/step - loss: 0.0051 - accuracy: 0.9981 - val_loss: 0.0229 - val_accuracy: 0.9938\n",
      "Epoch 76/1000\n",
      "63/65 [============================>.] - ETA: 0s - loss: 0.0063 - accuracy: 0.9975\n",
      "Epoch 00076: val_loss improved from 0.02110 to 0.02049, saving model to model/keypoint_classifier\\keypoint_classifier.hdf5\n",
      "65/65 [==============================] - 0s 6ms/step - loss: 0.0063 - accuracy: 0.9976 - val_loss: 0.0205 - val_accuracy: 0.9949\n",
      "Epoch 77/1000\n",
      "60/65 [==========================>...] - ETA: 0s - loss: 0.0033 - accuracy: 0.9992\n",
      "Epoch 00077: val_loss did not improve from 0.02049\n",
      "65/65 [==============================] - 0s 6ms/step - loss: 0.0032 - accuracy: 0.9993 - val_loss: 0.0234 - val_accuracy: 0.9949\n",
      "Epoch 78/1000\n",
      "63/65 [============================>.] - ETA: 0s - loss: 0.0032 - accuracy: 0.9993\n",
      "Epoch 00078: val_loss did not improve from 0.02049\n",
      "65/65 [==============================] - 0s 5ms/step - loss: 0.0031 - accuracy: 0.9993 - val_loss: 0.0255 - val_accuracy: 0.9933\n",
      "Epoch 79/1000\n",
      "63/65 [============================>.] - ETA: 0s - loss: 0.0046 - accuracy: 0.9990\n",
      "Epoch 00079: val_loss did not improve from 0.02049\n",
      "65/65 [==============================] - 0s 5ms/step - loss: 0.0046 - accuracy: 0.9990 - val_loss: 0.0208 - val_accuracy: 0.9949\n",
      "Epoch 80/1000\n",
      "59/65 [==========================>...] - ETA: 0s - loss: 0.0064 - accuracy: 0.9984\n",
      "Epoch 00080: val_loss did not improve from 0.02049\n",
      "65/65 [==============================] - 0s 6ms/step - loss: 0.0060 - accuracy: 0.9986 - val_loss: 0.0270 - val_accuracy: 0.9938\n",
      "Epoch 81/1000\n",
      "63/65 [============================>.] - ETA: 0s - loss: 0.0056 - accuracy: 0.9985\n",
      "Epoch 00081: val_loss did not improve from 0.02049\n",
      "65/65 [==============================] - 0s 5ms/step - loss: 0.0056 - accuracy: 0.9986 - val_loss: 0.0265 - val_accuracy: 0.9944\n",
      "Epoch 82/1000\n",
      "64/65 [============================>.] - ETA: 0s - loss: 0.0062 - accuracy: 0.9973\n",
      "Epoch 00082: val_loss did not improve from 0.02049\n",
      "65/65 [==============================] - 0s 5ms/step - loss: 0.0061 - accuracy: 0.9974 - val_loss: 0.0357 - val_accuracy: 0.9904\n",
      "Epoch 83/1000\n",
      "62/65 [===========================>..] - ETA: 0s - loss: 0.0109 - accuracy: 0.9965\n",
      "Epoch 00083: val_loss did not improve from 0.02049\n",
      "65/65 [==============================] - 0s 6ms/step - loss: 0.0108 - accuracy: 0.9966 - val_loss: 0.0399 - val_accuracy: 0.9927\n",
      "Epoch 84/1000\n",
      "60/65 [==========================>...] - ETA: 0s - loss: 0.0053 - accuracy: 0.9984\n",
      "Epoch 00084: val_loss did not improve from 0.02049\n",
      "65/65 [==============================] - 0s 5ms/step - loss: 0.0052 - accuracy: 0.9983 - val_loss: 0.0236 - val_accuracy: 0.9949\n",
      "Epoch 85/1000\n",
      "64/65 [============================>.] - ETA: 0s - loss: 0.0028 - accuracy: 0.9993\n",
      "Epoch 00085: val_loss did not improve from 0.02049\n",
      "65/65 [==============================] - 0s 5ms/step - loss: 0.0029 - accuracy: 0.9993 - val_loss: 0.0210 - val_accuracy: 0.9955\n",
      "Epoch 86/1000\n",
      "61/65 [===========================>..] - ETA: 0s - loss: 0.0041 - accuracy: 0.9985\n",
      "Epoch 00086: val_loss did not improve from 0.02049\n",
      "65/65 [==============================] - 0s 6ms/step - loss: 0.0039 - accuracy: 0.9986 - val_loss: 0.0249 - val_accuracy: 0.9933\n",
      "Epoch 87/1000\n",
      "58/65 [=========================>....] - ETA: 0s - loss: 0.0038 - accuracy: 0.9987\n",
      "Epoch 00087: val_loss did not improve from 0.02049\n",
      "65/65 [==============================] - 0s 6ms/step - loss: 0.0035 - accuracy: 0.9988 - val_loss: 0.0232 - val_accuracy: 0.9949\n",
      "Epoch 88/1000\n",
      "61/65 [===========================>..] - ETA: 0s - loss: 0.0028 - accuracy: 0.9995\n",
      "Epoch 00088: val_loss did not improve from 0.02049\n",
      "65/65 [==============================] - 0s 5ms/step - loss: 0.0026 - accuracy: 0.9995 - val_loss: 0.0244 - val_accuracy: 0.9949\n",
      "Epoch 89/1000\n",
      "61/65 [===========================>..] - ETA: 0s - loss: 0.0039 - accuracy: 0.9985\n",
      "Epoch 00089: val_loss did not improve from 0.02049\n",
      "65/65 [==============================] - 0s 6ms/step - loss: 0.0038 - accuracy: 0.9986 - val_loss: 0.0320 - val_accuracy: 0.9949\n",
      "Epoch 90/1000\n",
      "60/65 [==========================>...] - ETA: 0s - loss: 0.0060 - accuracy: 0.9979\n",
      "Epoch 00090: val_loss did not improve from 0.02049\n",
      "65/65 [==============================] - 0s 6ms/step - loss: 0.0063 - accuracy: 0.9976 - val_loss: 0.0270 - val_accuracy: 0.9916\n",
      "Epoch 91/1000\n",
      "60/65 [==========================>...] - ETA: 0s - loss: 0.0034 - accuracy: 0.9992\n",
      "Epoch 00091: val_loss did not improve from 0.02049\n",
      "65/65 [==============================] - 0s 6ms/step - loss: 0.0034 - accuracy: 0.9990 - val_loss: 0.0255 - val_accuracy: 0.9949\n",
      "Epoch 92/1000\n",
      "61/65 [===========================>..] - ETA: 0s - loss: 0.0025 - accuracy: 0.9995\n",
      "Epoch 00092: val_loss did not improve from 0.02049\n",
      "65/65 [==============================] - 0s 6ms/step - loss: 0.0024 - accuracy: 0.9995 - val_loss: 0.0262 - val_accuracy: 0.9949\n",
      "Epoch 93/1000\n",
      "62/65 [===========================>..] - ETA: 0s - loss: 0.0033 - accuracy: 0.9992\n",
      "Epoch 00093: val_loss did not improve from 0.02049\n",
      "65/65 [==============================] - 0s 6ms/step - loss: 0.0033 - accuracy: 0.9993 - val_loss: 0.0222 - val_accuracy: 0.9961\n",
      "Epoch 94/1000\n",
      "60/65 [==========================>...] - ETA: 0s - loss: 0.0063 - accuracy: 0.9969\n",
      "Epoch 00094: val_loss did not improve from 0.02049\n",
      "65/65 [==============================] - 0s 6ms/step - loss: 0.0060 - accuracy: 0.9971 - val_loss: 0.0308 - val_accuracy: 0.9944\n",
      "Epoch 95/1000\n",
      "62/65 [===========================>..] - ETA: 0s - loss: 0.0051 - accuracy: 0.9985\n",
      "Epoch 00095: val_loss did not improve from 0.02049\n",
      "65/65 [==============================] - 0s 5ms/step - loss: 0.0052 - accuracy: 0.9986 - val_loss: 0.0338 - val_accuracy: 0.9933\n",
      "Epoch 96/1000\n",
      "63/65 [============================>.] - ETA: 0s - loss: 0.0034 - accuracy: 0.9993\n",
      "Epoch 00096: val_loss did not improve from 0.02049\n",
      "65/65 [==============================] - 0s 6ms/step - loss: 0.0034 - accuracy: 0.9993 - val_loss: 0.0245 - val_accuracy: 0.9955\n",
      "Epoch 97/1000\n",
      "60/65 [==========================>...] - ETA: 0s - loss: 0.0033 - accuracy: 0.9990  \n",
      "Epoch 00097: val_loss did not improve from 0.02049\n",
      "65/65 [==============================] - 0s 6ms/step - loss: 0.0032 - accuracy: 0.9990 - val_loss: 0.0261 - val_accuracy: 0.9961\n",
      "Epoch 98/1000\n",
      "64/65 [============================>.] - ETA: 0s - loss: 0.0038 - accuracy: 0.9988\n",
      "Epoch 00098: val_loss did not improve from 0.02049\n",
      "65/65 [==============================] - 0s 6ms/step - loss: 0.0038 - accuracy: 0.9988 - val_loss: 0.0269 - val_accuracy: 0.9955\n",
      "Epoch 99/1000\n",
      "63/65 [============================>.] - ETA: 0s - loss: 0.0034 - accuracy: 0.9995\n",
      "Epoch 00099: val_loss did not improve from 0.02049\n",
      "65/65 [==============================] - 0s 5ms/step - loss: 0.0033 - accuracy: 0.9995 - val_loss: 0.0233 - val_accuracy: 0.9966\n",
      "Epoch 100/1000\n",
      "56/65 [========================>.....] - ETA: 0s - loss: 0.0030 - accuracy: 0.9994\n",
      "Epoch 00100: val_loss did not improve from 0.02049\n",
      "65/65 [==============================] - 0s 6ms/step - loss: 0.0027 - accuracy: 0.9995 - val_loss: 0.0304 - val_accuracy: 0.9927\n",
      "Epoch 101/1000\n",
      "59/65 [==========================>...] - ETA: 0s - loss: 0.0020 - accuracy: 0.9995\n",
      "Epoch 00101: val_loss did not improve from 0.02049\n",
      "65/65 [==============================] - 0s 6ms/step - loss: 0.0019 - accuracy: 0.9995 - val_loss: 0.0256 - val_accuracy: 0.9955\n",
      "Epoch 102/1000\n",
      "63/65 [============================>.] - ETA: 0s - loss: 0.0023 - accuracy: 0.9993\n",
      "Epoch 00102: val_loss did not improve from 0.02049\n",
      "65/65 [==============================] - 0s 6ms/step - loss: 0.0023 - accuracy: 0.9993 - val_loss: 0.0253 - val_accuracy: 0.9955\n",
      "Epoch 103/1000\n",
      "59/65 [==========================>...] - ETA: 0s - loss: 0.0025 - accuracy: 0.9992\n",
      "Epoch 00103: val_loss did not improve from 0.02049\n",
      "65/65 [==============================] - 0s 6ms/step - loss: 0.0026 - accuracy: 0.9993 - val_loss: 0.0246 - val_accuracy: 0.9955\n",
      "Epoch 104/1000\n",
      "61/65 [===========================>..] - ETA: 0s - loss: 0.0026 - accuracy: 0.9995\n",
      "Epoch 00104: val_loss did not improve from 0.02049\n",
      "65/65 [==============================] - 0s 6ms/step - loss: 0.0027 - accuracy: 0.9993 - val_loss: 0.0251 - val_accuracy: 0.9949\n",
      "Epoch 105/1000\n",
      "56/65 [========================>.....] - ETA: 0s - loss: 0.0052 - accuracy: 0.9986\n",
      "Epoch 00105: val_loss did not improve from 0.02049\n",
      "65/65 [==============================] - 0s 6ms/step - loss: 0.0050 - accuracy: 0.9988 - val_loss: 0.0252 - val_accuracy: 0.9949\n",
      "Epoch 106/1000\n",
      "55/65 [========================>.....] - ETA: 0s - loss: 0.0017 - accuracy: 0.9997\n",
      "Epoch 00106: val_loss did not improve from 0.02049\n",
      "65/65 [==============================] - 0s 6ms/step - loss: 0.0017 - accuracy: 0.9995 - val_loss: 0.0301 - val_accuracy: 0.9949\n",
      "Epoch 107/1000\n",
      "65/65 [==============================] - ETA: 0s - loss: 0.0021 - accuracy: 0.9995\n",
      "Epoch 00107: val_loss did not improve from 0.02049\n",
      "65/65 [==============================] - 0s 6ms/step - loss: 0.0021 - accuracy: 0.9995 - val_loss: 0.0332 - val_accuracy: 0.9944\n",
      "Epoch 108/1000\n",
      "58/65 [=========================>....] - ETA: 0s - loss: 0.0025 - accuracy: 0.9997\n",
      "Epoch 00108: val_loss did not improve from 0.02049\n",
      "65/65 [==============================] - 0s 6ms/step - loss: 0.0024 - accuracy: 0.9998 - val_loss: 0.0266 - val_accuracy: 0.9944\n",
      "Epoch 109/1000\n",
      "63/65 [============================>.] - ETA: 0s - loss: 0.0024 - accuracy: 0.9993    \n",
      "Epoch 00109: val_loss did not improve from 0.02049\n",
      "65/65 [==============================] - 0s 6ms/step - loss: 0.0024 - accuracy: 0.9993 - val_loss: 0.0236 - val_accuracy: 0.9944\n",
      "Epoch 110/1000\n",
      "57/65 [=========================>....] - ETA: 0s - loss: 0.0022 - accuracy: 0.9995\n",
      "Epoch 00110: val_loss did not improve from 0.02049\n",
      "65/65 [==============================] - 0s 6ms/step - loss: 0.0021 - accuracy: 0.9995 - val_loss: 0.0301 - val_accuracy: 0.9938\n",
      "Epoch 111/1000\n",
      "63/65 [============================>.] - ETA: 0s - loss: 0.0024 - accuracy: 0.9998\n",
      "Epoch 00111: val_loss did not improve from 0.02049\n",
      "65/65 [==============================] - 0s 6ms/step - loss: 0.0024 - accuracy: 0.9998 - val_loss: 0.0224 - val_accuracy: 0.9961\n",
      "Epoch 112/1000\n",
      "61/65 [===========================>..] - ETA: 0s - loss: 0.0018 - accuracy: 0.9995\n",
      "Epoch 00112: val_loss did not improve from 0.02049\n",
      "65/65 [==============================] - 0s 6ms/step - loss: 0.0017 - accuracy: 0.9995 - val_loss: 0.0257 - val_accuracy: 0.9955\n",
      "Epoch 113/1000\n",
      "61/65 [===========================>..] - ETA: 0s - loss: 0.0014 - accuracy: 0.9997    \n",
      "Epoch 00113: val_loss did not improve from 0.02049\n",
      "65/65 [==============================] - 0s 6ms/step - loss: 0.0013 - accuracy: 0.9998 - val_loss: 0.0228 - val_accuracy: 0.9966\n",
      "Epoch 114/1000\n",
      "60/65 [==========================>...] - ETA: 0s - loss: 0.0012 - accuracy: 0.9997    \n",
      "Epoch 00114: val_loss did not improve from 0.02049\n",
      "65/65 [==============================] - 0s 6ms/step - loss: 0.0013 - accuracy: 0.9998 - val_loss: 0.0279 - val_accuracy: 0.9949\n",
      "Epoch 115/1000\n",
      "63/65 [============================>.] - ETA: 0s - loss: 0.0019 - accuracy: 0.9995  \n",
      "Epoch 00115: val_loss improved from 0.02049 to 0.01984, saving model to model/keypoint_classifier\\keypoint_classifier.hdf5\n",
      "65/65 [==============================] - 0s 7ms/step - loss: 0.0018 - accuracy: 0.9995 - val_loss: 0.0198 - val_accuracy: 0.9966\n",
      "Epoch 116/1000\n",
      "65/65 [==============================] - ETA: 0s - loss: 0.0020 - accuracy: 0.9998\n",
      "Epoch 00116: val_loss did not improve from 0.01984\n",
      "65/65 [==============================] - 0s 6ms/step - loss: 0.0020 - accuracy: 0.9998 - val_loss: 0.0266 - val_accuracy: 0.9949\n",
      "Epoch 117/1000\n",
      "62/65 [===========================>..] - ETA: 0s - loss: 0.0017 - accuracy: 0.9997\n",
      "Epoch 00117: val_loss did not improve from 0.01984\n",
      "65/65 [==============================] - 0s 5ms/step - loss: 0.0017 - accuracy: 0.9998 - val_loss: 0.0256 - val_accuracy: 0.9949\n",
      "Epoch 118/1000\n",
      "62/65 [===========================>..] - ETA: 0s - loss: 0.0028 - accuracy: 0.9990    \n",
      "Epoch 00118: val_loss did not improve from 0.01984\n",
      "65/65 [==============================] - 0s 5ms/step - loss: 0.0027 - accuracy: 0.9990 - val_loss: 0.0232 - val_accuracy: 0.9966\n",
      "Epoch 119/1000\n",
      "63/65 [============================>.] - ETA: 0s - loss: 0.0052 - accuracy: 0.9983\n",
      "Epoch 00119: val_loss did not improve from 0.01984\n",
      "65/65 [==============================] - 0s 6ms/step - loss: 0.0052 - accuracy: 0.9983 - val_loss: 0.0301 - val_accuracy: 0.9944\n",
      "Epoch 120/1000\n",
      "53/65 [=======================>......] - ETA: 0s - loss: 0.0169 - accuracy: 0.9947\n",
      "Epoch 00120: val_loss did not improve from 0.01984\n",
      "65/65 [==============================] - 0s 5ms/step - loss: 0.0169 - accuracy: 0.9949 - val_loss: 0.0312 - val_accuracy: 0.9933\n",
      "Epoch 121/1000\n",
      "65/65 [==============================] - ETA: 0s - loss: 0.0033 - accuracy: 0.9990\n",
      "Epoch 00121: val_loss did not improve from 0.01984\n",
      "65/65 [==============================] - 0s 5ms/step - loss: 0.0033 - accuracy: 0.9990 - val_loss: 0.0262 - val_accuracy: 0.9938\n",
      "Epoch 122/1000\n",
      "63/65 [============================>.] - ETA: 0s - loss: 0.0024 - accuracy: 0.9995    \n",
      "Epoch 00122: val_loss did not improve from 0.01984\n",
      "65/65 [==============================] - 0s 5ms/step - loss: 0.0024 - accuracy: 0.9995 - val_loss: 0.0275 - val_accuracy: 0.9949\n",
      "Epoch 123/1000\n",
      "62/65 [===========================>..] - ETA: 0s - loss: 0.0015 - accuracy: 0.9997\n",
      "Epoch 00123: val_loss did not improve from 0.01984\n",
      "65/65 [==============================] - 0s 6ms/step - loss: 0.0015 - accuracy: 0.9998 - val_loss: 0.0269 - val_accuracy: 0.9938\n",
      "Epoch 124/1000\n",
      "60/65 [==========================>...] - ETA: 0s - loss: 6.6149e-04 - accuracy: 1.0000\n",
      "Epoch 00124: val_loss did not improve from 0.01984\n",
      "65/65 [==============================] - 0s 6ms/step - loss: 0.0012 - accuracy: 0.9998 - val_loss: 0.0239 - val_accuracy: 0.9961\n",
      "Epoch 125/1000\n",
      "61/65 [===========================>..] - ETA: 0s - loss: 0.0016 - accuracy: 0.9995\n",
      "Epoch 00125: val_loss did not improve from 0.01984\n",
      "65/65 [==============================] - 0s 6ms/step - loss: 0.0016 - accuracy: 0.9995 - val_loss: 0.0223 - val_accuracy: 0.9944\n",
      "Epoch 126/1000\n",
      "54/65 [=======================>......] - ETA: 0s - loss: 0.0035 - accuracy: 0.9991\n",
      "Epoch 00126: val_loss did not improve from 0.01984\n",
      "65/65 [==============================] - 0s 6ms/step - loss: 0.0033 - accuracy: 0.9990 - val_loss: 0.0222 - val_accuracy: 0.9961\n",
      "Epoch 127/1000\n",
      "51/65 [======================>.......] - ETA: 0s - loss: 0.0010 - accuracy: 1.0000  \n",
      "Epoch 00127: val_loss did not improve from 0.01984\n",
      "65/65 [==============================] - 0s 6ms/step - loss: 0.0017 - accuracy: 0.9998 - val_loss: 0.0204 - val_accuracy: 0.9961\n",
      "Epoch 128/1000\n",
      "60/65 [==========================>...] - ETA: 0s - loss: 0.0023 - accuracy: 0.9992\n",
      "Epoch 00128: val_loss did not improve from 0.01984\n",
      "65/65 [==============================] - 0s 6ms/step - loss: 0.0021 - accuracy: 0.9993 - val_loss: 0.0253 - val_accuracy: 0.9961\n",
      "Epoch 129/1000\n",
      "59/65 [==========================>...] - ETA: 0s - loss: 0.0024 - accuracy: 0.9987\n",
      "Epoch 00129: val_loss did not improve from 0.01984\n",
      "65/65 [==============================] - 0s 6ms/step - loss: 0.0025 - accuracy: 0.9988 - val_loss: 0.0261 - val_accuracy: 0.9938\n",
      "Epoch 130/1000\n",
      "65/65 [==============================] - ETA: 0s - loss: 0.0013 - accuracy: 0.9998  \n",
      "Epoch 00130: val_loss did not improve from 0.01984\n",
      "65/65 [==============================] - 0s 7ms/step - loss: 0.0013 - accuracy: 0.9998 - val_loss: 0.0296 - val_accuracy: 0.9949\n",
      "Epoch 131/1000\n",
      "55/65 [========================>.....] - ETA: 0s - loss: 0.0016 - accuracy: 0.9991  \n",
      "Epoch 00131: val_loss did not improve from 0.01984\n",
      "65/65 [==============================] - 0s 6ms/step - loss: 0.0015 - accuracy: 0.9993 - val_loss: 0.0230 - val_accuracy: 0.9949\n",
      "Epoch 132/1000\n",
      "57/65 [=========================>....] - ETA: 0s - loss: 0.0016 - accuracy: 0.9995\n",
      "Epoch 00132: val_loss did not improve from 0.01984\n",
      "65/65 [==============================] - 0s 6ms/step - loss: 0.0015 - accuracy: 0.9995 - val_loss: 0.0219 - val_accuracy: 0.9961\n",
      "Epoch 133/1000\n",
      "57/65 [=========================>....] - ETA: 0s - loss: 0.0019 - accuracy: 0.9995  \n",
      "Epoch 00133: val_loss did not improve from 0.01984\n",
      "65/65 [==============================] - 0s 6ms/step - loss: 0.0017 - accuracy: 0.9995 - val_loss: 0.0233 - val_accuracy: 0.9955\n",
      "Epoch 134/1000\n",
      "60/65 [==========================>...] - ETA: 0s - loss: 0.0013 - accuracy: 0.9997\n",
      "Epoch 00134: val_loss did not improve from 0.01984\n",
      "65/65 [==============================] - 0s 6ms/step - loss: 0.0012 - accuracy: 0.9998 - val_loss: 0.0208 - val_accuracy: 0.9949\n",
      "Epoch 135/1000\n",
      "65/65 [==============================] - ETA: 0s - loss: 0.0053 - accuracy: 0.9978\n",
      "Epoch 00135: val_loss did not improve from 0.01984\n",
      "65/65 [==============================] - 1s 8ms/step - loss: 0.0053 - accuracy: 0.9978 - val_loss: 0.0325 - val_accuracy: 0.9955\n",
      "Epoch 136/1000\n",
      "52/65 [=======================>......] - ETA: 0s - loss: 0.0024 - accuracy: 0.9997\n",
      "Epoch 00136: val_loss did not improve from 0.01984\n",
      "65/65 [==============================] - 0s 6ms/step - loss: 0.0022 - accuracy: 0.9998 - val_loss: 0.0254 - val_accuracy: 0.9966\n",
      "Epoch 137/1000\n",
      "61/65 [===========================>..] - ETA: 0s - loss: 0.0016 - accuracy: 0.9995\n",
      "Epoch 00137: val_loss did not improve from 0.01984\n",
      "65/65 [==============================] - 0s 6ms/step - loss: 0.0017 - accuracy: 0.9995 - val_loss: 0.0214 - val_accuracy: 0.9955\n",
      "Epoch 138/1000\n",
      "60/65 [==========================>...] - ETA: 0s - loss: 0.0014 - accuracy: 0.9995\n",
      "Epoch 00138: val_loss did not improve from 0.01984\n",
      "65/65 [==============================] - 0s 6ms/step - loss: 0.0013 - accuracy: 0.9995 - val_loss: 0.0239 - val_accuracy: 0.9966\n",
      "Epoch 139/1000\n",
      "55/65 [========================>.....] - ETA: 0s - loss: 0.0020 - accuracy: 0.9997  \n",
      "Epoch 00139: val_loss did not improve from 0.01984\n",
      "65/65 [==============================] - 0s 6ms/step - loss: 0.0019 - accuracy: 0.9998 - val_loss: 0.0239 - val_accuracy: 0.9961\n",
      "Epoch 140/1000\n",
      "62/65 [===========================>..] - ETA: 0s - loss: 0.0014 - accuracy: 0.9997\n",
      "Epoch 00140: val_loss did not improve from 0.01984\n",
      "65/65 [==============================] - 0s 5ms/step - loss: 0.0014 - accuracy: 0.9998 - val_loss: 0.0273 - val_accuracy: 0.9955\n",
      "Epoch 141/1000\n",
      "58/65 [=========================>....] - ETA: 0s - loss: 0.0013 - accuracy: 0.9997\n",
      "Epoch 00141: val_loss did not improve from 0.01984\n",
      "65/65 [==============================] - 0s 6ms/step - loss: 0.0012 - accuracy: 0.9998 - val_loss: 0.0247 - val_accuracy: 0.9955\n",
      "Epoch 142/1000\n",
      "60/65 [==========================>...] - ETA: 0s - loss: 0.0010 - accuracy: 0.9997\n",
      "Epoch 00142: val_loss did not improve from 0.01984\n",
      "65/65 [==============================] - 0s 6ms/step - loss: 9.6784e-04 - accuracy: 0.9998 - val_loss: 0.0240 - val_accuracy: 0.9966\n",
      "Epoch 143/1000\n",
      "62/65 [===========================>..] - ETA: 0s - loss: 0.0013 - accuracy: 0.9997\n",
      "Epoch 00143: val_loss did not improve from 0.01984\n",
      "65/65 [==============================] - 0s 6ms/step - loss: 0.0012 - accuracy: 0.9998 - val_loss: 0.0226 - val_accuracy: 0.9955\n",
      "Epoch 144/1000\n",
      "65/65 [==============================] - ETA: 0s - loss: 0.0012 - accuracy: 0.9995\n",
      "Epoch 00144: val_loss did not improve from 0.01984\n",
      "65/65 [==============================] - 0s 5ms/step - loss: 0.0012 - accuracy: 0.9995 - val_loss: 0.0237 - val_accuracy: 0.9955\n",
      "Epoch 145/1000\n",
      "60/65 [==========================>...] - ETA: 0s - loss: 0.0013 - accuracy: 0.9992  \n",
      "Epoch 00145: val_loss did not improve from 0.01984\n",
      "65/65 [==============================] - 0s 6ms/step - loss: 0.0012 - accuracy: 0.9993 - val_loss: 0.0230 - val_accuracy: 0.9955\n",
      "Epoch 146/1000\n",
      "59/65 [==========================>...] - ETA: 0s - loss: 4.8303e-04 - accuracy: 1.0000\n",
      "Epoch 00146: val_loss did not improve from 0.01984\n",
      "65/65 [==============================] - 0s 6ms/step - loss: 0.0011 - accuracy: 0.9998 - val_loss: 0.0253 - val_accuracy: 0.9961\n",
      "Epoch 147/1000\n",
      "63/65 [============================>.] - ETA: 0s - loss: 5.8971e-04 - accuracy: 0.9998\n",
      "Epoch 00147: val_loss did not improve from 0.01984\n",
      "65/65 [==============================] - 0s 5ms/step - loss: 5.7718e-04 - accuracy: 0.9998 - val_loss: 0.0240 - val_accuracy: 0.9961\n",
      "Epoch 148/1000\n",
      "65/65 [==============================] - ETA: 0s - loss: 0.0012 - accuracy: 0.9998    \n",
      "Epoch 00148: val_loss did not improve from 0.01984\n",
      "65/65 [==============================] - 0s 5ms/step - loss: 0.0012 - accuracy: 0.9998 - val_loss: 0.0216 - val_accuracy: 0.9961\n",
      "Epoch 149/1000\n",
      "60/65 [==========================>...] - ETA: 0s - loss: 0.0055 - accuracy: 0.9982\n",
      "Epoch 00149: val_loss did not improve from 0.01984\n",
      "65/65 [==============================] - 0s 6ms/step - loss: 0.0052 - accuracy: 0.9983 - val_loss: 0.0324 - val_accuracy: 0.9916\n",
      "Epoch 150/1000\n",
      "55/65 [========================>.....] - ETA: 0s - loss: 0.0031 - accuracy: 0.9991\n",
      "Epoch 00150: val_loss did not improve from 0.01984\n",
      "65/65 [==============================] - 0s 6ms/step - loss: 0.0028 - accuracy: 0.9993 - val_loss: 0.0255 - val_accuracy: 0.9933\n",
      "Epoch 151/1000\n",
      "56/65 [========================>.....] - ETA: 0s - loss: 0.0028 - accuracy: 0.9989\n",
      "Epoch 00151: val_loss did not improve from 0.01984\n",
      "65/65 [==============================] - 0s 6ms/step - loss: 0.0028 - accuracy: 0.9988 - val_loss: 0.0279 - val_accuracy: 0.9955\n",
      "Epoch 152/1000\n",
      "53/65 [=======================>......] - ETA: 0s - loss: 0.0022 - accuracy: 0.9994  \n",
      "Epoch 00152: val_loss did not improve from 0.01984\n",
      "65/65 [==============================] - 0s 6ms/step - loss: 0.0020 - accuracy: 0.9995 - val_loss: 0.0230 - val_accuracy: 0.9955\n",
      "Epoch 153/1000\n",
      "52/65 [=======================>......] - ETA: 0s - loss: 0.0012 - accuracy: 0.9994  \n",
      "Epoch 00153: val_loss did not improve from 0.01984\n",
      "65/65 [==============================] - 0s 6ms/step - loss: 0.0018 - accuracy: 0.9993 - val_loss: 0.0292 - val_accuracy: 0.9949\n",
      "Epoch 154/1000\n",
      "50/65 [======================>.......] - ETA: 0s - loss: 0.0011 - accuracy: 0.9997  \n",
      "Epoch 00154: val_loss did not improve from 0.01984\n",
      "65/65 [==============================] - 0s 5ms/step - loss: 0.0020 - accuracy: 0.9993 - val_loss: 0.0309 - val_accuracy: 0.9949\n",
      "Epoch 155/1000\n",
      "55/65 [========================>.....] - ETA: 0s - loss: 7.1705e-04 - accuracy: 0.9997\n",
      "Epoch 00155: val_loss did not improve from 0.01984\n",
      "65/65 [==============================] - 0s 6ms/step - loss: 8.6073e-04 - accuracy: 0.9998 - val_loss: 0.0248 - val_accuracy: 0.9955\n",
      "Epoch 156/1000\n",
      "65/65 [==============================] - ETA: 0s - loss: 0.0011 - accuracy: 0.9998  \n",
      "Epoch 00156: val_loss did not improve from 0.01984\n",
      "65/65 [==============================] - 0s 7ms/step - loss: 0.0011 - accuracy: 0.9998 - val_loss: 0.0246 - val_accuracy: 0.9961\n",
      "Epoch 157/1000\n",
      "58/65 [=========================>....] - ETA: 0s - loss: 0.0024 - accuracy: 0.9989  \n",
      "Epoch 00157: val_loss did not improve from 0.01984\n",
      "65/65 [==============================] - 0s 5ms/step - loss: 0.0022 - accuracy: 0.9990 - val_loss: 0.0262 - val_accuracy: 0.9949\n",
      "Epoch 158/1000\n",
      "49/65 [=====================>........] - ETA: 0s - loss: 0.0011 - accuracy: 0.9997  \n",
      "Epoch 00158: val_loss did not improve from 0.01984\n",
      "65/65 [==============================] - 0s 5ms/step - loss: 8.6142e-04 - accuracy: 0.9998 - val_loss: 0.0268 - val_accuracy: 0.9949\n",
      "Epoch 159/1000\n",
      "59/65 [==========================>...] - ETA: 0s - loss: 8.4387e-04 - accuracy: 0.9995\n",
      "Epoch 00159: val_loss did not improve from 0.01984\n",
      "65/65 [==============================] - 1s 8ms/step - loss: 7.8513e-04 - accuracy: 0.9995 - val_loss: 0.0224 - val_accuracy: 0.9949\n",
      "Epoch 160/1000\n",
      "56/65 [========================>.....] - ETA: 0s - loss: 0.0019 - accuracy: 0.9994\n",
      "Epoch 00160: val_loss did not improve from 0.01984\n",
      "65/65 [==============================] - 1s 9ms/step - loss: 0.0017 - accuracy: 0.9995 - val_loss: 0.0255 - val_accuracy: 0.9955\n",
      "Epoch 161/1000\n",
      "59/65 [==========================>...] - ETA: 0s - loss: 0.0013 - accuracy: 0.9997    \n",
      "Epoch 00161: val_loss did not improve from 0.01984\n",
      "65/65 [==============================] - 0s 6ms/step - loss: 0.0014 - accuracy: 0.9998 - val_loss: 0.0273 - val_accuracy: 0.9949\n",
      "Epoch 162/1000\n",
      "64/65 [============================>.] - ETA: 0s - loss: 0.0034 - accuracy: 0.9988\n",
      "Epoch 00162: val_loss did not improve from 0.01984\n",
      "65/65 [==============================] - 1s 10ms/step - loss: 0.0033 - accuracy: 0.9988 - val_loss: 0.0224 - val_accuracy: 0.9961\n",
      "Epoch 163/1000\n",
      "55/65 [========================>.....] - ETA: 0s - loss: 0.0023 - accuracy: 0.9994\n",
      "Epoch 00163: val_loss did not improve from 0.01984\n",
      "65/65 [==============================] - 1s 9ms/step - loss: 0.0023 - accuracy: 0.9993 - val_loss: 0.0239 - val_accuracy: 0.9955\n",
      "Epoch 164/1000\n",
      "58/65 [=========================>....] - ETA: 0s - loss: 0.0024 - accuracy: 0.9992    \n",
      "Epoch 00164: val_loss did not improve from 0.01984\n",
      "65/65 [==============================] - 1s 8ms/step - loss: 0.0024 - accuracy: 0.9993 - val_loss: 0.0331 - val_accuracy: 0.9944\n",
      "Epoch 165/1000\n",
      "55/65 [========================>.....] - ETA: 0s - loss: 0.0016 - accuracy: 0.9994\n",
      "Epoch 00165: val_loss did not improve from 0.01984\n",
      "65/65 [==============================] - 0s 4ms/step - loss: 0.0023 - accuracy: 0.9993 - val_loss: 0.0436 - val_accuracy: 0.9938\n",
      "Epoch 00165: early stopping\n"
     ]
    },
    {
     "data": {
      "text/plain": [
       "<keras.callbacks.History at 0x1e058b96970>"
      ]
     },
     "execution_count": 27,
     "metadata": {},
     "output_type": "execute_result"
    }
   ],
   "source": [
    "model.fit(\n",
    "    X_train,\n",
    "    y_train,\n",
    "    epochs=1000,\n",
    "    batch_size=64,\n",
    "    validation_data=(X_test, y_test),\n",
    "    callbacks=[cp_callback, es_callback]\n",
    ")"
   ]
  },
  {
   "cell_type": "code",
   "execution_count": 28,
   "metadata": {
    "id": "RBkmDeUW9hE4"
   },
   "outputs": [],
   "source": [
    "# Loading the saved model\n",
    "model = tf.keras.models.load_model(model_save_path)"
   ]
  },
  {
   "cell_type": "code",
   "execution_count": 29,
   "metadata": {
    "colab": {
     "base_uri": "https://localhost:8080/"
    },
    "id": "pxvb2Y299hE3",
    "outputId": "7015e279-0501-4f24-d1b5-90652d2de17d"
   },
   "outputs": [
    {
     "name": "stdout",
     "output_type": "stream",
     "text": [
      "28/28 [==============================] - 1s 3ms/step - loss: 0.0198 - accuracy: 0.9966\n"
     ]
    }
   ],
   "source": [
    "# Model evaluation\n",
    "# TODO Test on loaded model\n",
    "val_loss, val_acc = model.evaluate(X_test, y_test, batch_size=64)"
   ]
  },
  {
   "cell_type": "code",
   "execution_count": 30,
   "metadata": {
    "colab": {
     "base_uri": "https://localhost:8080/"
    },
    "id": "tFz9Tb0I9hE4",
    "outputId": "bb8a62a9-bf7d-4d99-8099-bda4e2e1c73a"
   },
   "outputs": [
    {
     "name": "stdout",
     "output_type": "stream",
     "text": [
      "[9.9998116e-01 1.9555956e-07 1.8631601e-05 4.9263099e-10 8.1802013e-12\n",
      " 5.5178467e-10 2.4716714e-14]\n",
      "0\n"
     ]
    }
   ],
   "source": [
    "# Inference test\n",
    "predict_result = model.predict(np.array([X_test[0]]))\n",
    "print(np.squeeze(predict_result))\n",
    "print(np.argmax(np.squeeze(predict_result)))"
   ]
  },
  {
   "cell_type": "markdown",
   "metadata": {
    "id": "S3U4yNWx9hE4"
   },
   "source": [
    "# Confusion matrix"
   ]
  },
  {
   "cell_type": "code",
   "execution_count": 31,
   "metadata": {
    "colab": {
     "base_uri": "https://localhost:8080/",
     "height": 646
    },
    "id": "AP1V6SCk9hE5",
    "outputId": "efce96b9-ca1c-44a5-ef77-58f1d5fc154c"
   },
   "outputs": [
    {
     "data": {
      "image/png": "[encoded data removed]",
      "text/plain": [
       "<Figure size 504x432 with 2 Axes>"
      ]
     },
     "metadata": {
      "needs_background": "light"
     },
     "output_type": "display_data"
    },
    {
     "name": "stdout",
     "output_type": "stream",
     "text": [
      "Classification Report\n",
      "              precision    recall  f1-score   support\n",
      "\n",
      "           0     0.9980    0.9942    0.9961       513\n",
      "           1     0.9936    0.9979    0.9958       470\n",
      "           2     0.9978    0.9955    0.9966       448\n",
      "           3     1.0000    1.0000    1.0000       203\n",
      "           4     1.0000    1.0000    1.0000        57\n",
      "           5     0.9750    1.0000    0.9873        39\n",
      "           6     1.0000    1.0000    1.0000        50\n",
      "\n",
      "    accuracy                         0.9966      1780\n",
      "   macro avg     0.9949    0.9982    0.9965      1780\n",
      "weighted avg     0.9966    0.9966    0.9966      1780\n",
      "\n"
     ]
    }
   ],
   "source": [
    "import pandas as pd\n",
    "import seaborn as sns\n",
    "import matplotlib.pyplot as plt\n",
    "from sklearn.metrics import confusion_matrix, classification_report\n",
    "\n",
    "def print_confusion_matrix(y_true, y_pred, report=True):\n",
    "    labels = sorted(list(set(y_true)))\n",
    "    cmx_data = confusion_matrix(y_true, y_pred, labels=labels)\n",
    "    \n",
    "    df_cmx = pd.DataFrame(cmx_data, index=labels, columns=labels)\n",
    " \n",
    "    fig, ax = plt.subplots(figsize=(7, 6))\n",
    "    plt.xlabel('True Class')\n",
    "    plt.xlabel('Predicted Class')\n",
    "    sns.heatmap(df_cmx, annot=True, fmt='g' ,square=False)\n",
    "    ax.set_ylim(len(set(y_true)), 0)\n",
    "    ax.set(xlabel='Predicted', ylabel='True')\n",
    "    plt.show()\n",
    "    \n",
    "    if report:\n",
    "        print('Classification Report')\n",
    "        print(classification_report(y_test, y_pred, digits=4))\n",
    "\n",
    "Y_pred = model.predict(X_test)\n",
    "y_pred = np.argmax(Y_pred, axis=1)\n",
    "\n",
    "print_confusion_matrix(y_test, y_pred)"
   ]
  },
  {
   "cell_type": "markdown",
   "metadata": {
    "id": "FNP6aqzc9hE5"
   },
   "source": [
    "# Convert to model for Tensorflow-Lite"
   ]
  },
  {
   "cell_type": "code",
   "execution_count": 33,
   "metadata": {
    "id": "ODjnYyld9hE6"
   },
   "outputs": [],
   "source": [
    "# Save as a model dedicated to inference\n",
    "model.save(model_save_path, include_optimizer=False)"
   ]
  },
  {
   "cell_type": "code",
   "execution_count": 34,
   "metadata": {
    "colab": {
     "base_uri": "https://localhost:8080/"
    },
    "id": "zRfuK8Y59hE6",
    "outputId": "106250fb-84e1-4ee8-bc8e-dcedb2bfd31c"
   },
   "outputs": [
    {
     "name": "stdout",
     "output_type": "stream",
     "text": [
      "INFO:tensorflow:Assets written to: C:\\Users\\halor\\AppData\\Local\\Temp\\tmpxd9uxaud\\assets\n"
     ]
    },
    {
     "name": "stderr",
     "output_type": "stream",
     "text": [
      "WARNING:absl:Buffer deduplication procedure will be skipped when flatbuffer library is not properly loaded\n"
     ]
    },
    {
     "data": {
      "text/plain": [
       "7632"
      ]
     },
     "execution_count": 34,
     "metadata": {},
     "output_type": "execute_result"
    }
   ],
   "source": [
    "# Transform model (quantization)\n",
    "\n",
    "converter = tf.lite.TFLiteConverter.from_keras_model(model)\n",
    "converter.optimizations = [tf.lite.Optimize.DEFAULT]\n",
    "tflite_quantized_model = converter.convert()\n",
    "\n",
    "open(tflite_save_path, 'wb').write(tflite_quantized_model)"
   ]
  },
  {
   "cell_type": "markdown",
   "metadata": {
    "id": "CHBPBXdx9hE6"
   },
   "source": [
    "## Inference test"
   ]
  },
  {
   "cell_type": "code",
   "execution_count": null,
   "metadata": {
    "id": "mGAzLocO9hE7"
   },
   "outputs": [],
   "source": [
    "interpreter = tf.lite.Interpreter(model_path=tflite_save_path)\n",
    "interpreter.allocate_tensors()"
   ]
  },
  {
   "cell_type": "code",
   "execution_count": null,
   "metadata": {
    "id": "oQuDK8YS9hE7"
   },
   "outputs": [],
   "source": [
    "# Get I / O tensor\n",
    "input_details = interpreter.get_input_details()\n",
    "output_details = interpreter.get_output_details()"
   ]
  },
  {
   "cell_type": "code",
   "execution_count": null,
   "metadata": {
    "id": "2_ixAf_l9hE7"
   },
   "outputs": [],
   "source": [
    "interpreter.set_tensor(input_details[0]['index'], np.array([X_test[0]]))"
   ]
  },
  {
   "cell_type": "code",
   "execution_count": null,
   "metadata": {
    "colab": {
     "base_uri": "https://localhost:8080/"
    },
    "id": "s4FoAnuc9hE7",
    "outputId": "330d050b-a3fb-41ce-fa07-dc7a48d715e7",
    "scrolled": true
   },
   "outputs": [],
   "source": [
    "%%time\n",
    "# Inference implementation\n",
    "interpreter.invoke()\n",
    "tflite_results = interpreter.get_tensor(output_details[0]['index'])"
   ]
  },
  {
   "cell_type": "code",
   "execution_count": null,
   "metadata": {
    "colab": {
     "base_uri": "https://localhost:8080/"
    },
    "id": "vONjp19J9hE8",
    "outputId": "9338c9f1-499b-4e10-844d-950075e98a75"
   },
   "outputs": [],
   "source": [
    "print(np.squeeze(tflite_results))\n",
    "print(np.argmax(np.squeeze(tflite_results)))"
   ]
  },
  {
   "cell_type": "markdown",
   "metadata": {
    "id": "2GCHB0ELGs60"
   },
   "source": [
    "## Download model"
   ]
  },
  {
   "cell_type": "code",
   "execution_count": null,
   "metadata": {
    "colab": {
     "base_uri": "https://localhost:8080/"
    },
    "id": "a2jM8I3jGdF6",
    "outputId": "bd2c08cc-d57c-4589-e4fa-f80389176b96"
   },
   "outputs": [],
   "source": [
    "!zip -r model.zip keypoint_classifier  "
   ]
  },
  {
   "cell_type": "markdown",
   "metadata": {
    "id": "vEqyprC6cMVF"
   },
   "source": [
    "\n",
    "\n",
    "---\n",
    "\n",
    "\n",
    "# ❗️Hyperparameters Tuning"
   ]
  },
  {
   "cell_type": "code",
   "execution_count": 1,
   "metadata": {
    "id": "KrjjSqlLcQ4O"
   },
   "outputs": [],
   "source": [
    "%load_ext tensorboard\n",
    "from tensorboard.plugins.hparams import api as hp"
   ]
  },
  {
   "cell_type": "code",
   "execution_count": 2,
   "metadata": {
    "id": "YO6VffaRcY3R"
   },
   "outputs": [],
   "source": [
    "# Init parameters to tune\n",
    "HP_NUM_UNITS_1 = hp.HParam('num_units_1', hp.Discrete([16, 32, 64]))\n",
    "HP_NUM_UNITS_2 = hp.HParam('num_units_2', hp.Discrete([8, 16, 32]))\n",
    "HP_NUM_UNITS_3 = hp.HParam('num_units_3', hp.Discrete([8, 16, 32]))\n",
    "HP_DROPOUT = hp.HParam('dropout', hp.RealInterval(0.0, 0.2))\n",
    "HP_OPTIMIZER = hp.HParam('optimizer', hp.Discrete(['adam', 'sgd']))\n",
    "\n",
    "METRIC_ACCURACY = 'accuracy'"
   ]
  },
  {
   "cell_type": "code",
   "execution_count": 5,
   "metadata": {
    "id": "eMysvzFxctmG"
   },
   "outputs": [],
   "source": [
    "with tf.summary.create_file_writer('logs/hparam_tuning').as_default():\n",
    "  hp.hparams_config(\n",
    "    hparams=[HP_NUM_UNITS_1,HP_NUM_UNITS_2,HP_NUM_UNITS_3, HP_DROPOUT, HP_OPTIMIZER],\n",
    "    metrics=[hp.Metric(METRIC_ACCURACY, display_name='Accuracy')],\n",
    "  )"
   ]
  },
  {
   "cell_type": "code",
   "execution_count": 6,
   "metadata": {
    "id": "XSDYqpKZgOBw"
   },
   "outputs": [
    {
     "ename": "NameError",
     "evalue": "name 'model_save_path' is not defined",
     "output_type": "error",
     "traceback": [
      "\u001b[1;31m---------------------------------------------------------------------------\u001b[0m",
      "\u001b[1;31mNameError\u001b[0m                                 Traceback (most recent call last)",
      "\u001b[1;32m~\\AppData\\Local\\Temp/ipykernel_20120/3045730086.py\u001b[0m in \u001b[0;36m<module>\u001b[1;34m\u001b[0m\n\u001b[0;32m      1\u001b[0m \u001b[1;31m# Model checkpoint callback\u001b[0m\u001b[1;33m\u001b[0m\u001b[1;33m\u001b[0m\u001b[0m\n\u001b[0;32m      2\u001b[0m cp_callback = tf.keras.callbacks.ModelCheckpoint(\n\u001b[1;32m----> 3\u001b[1;33m     model_save_path, verbose=1, save_weights_only=False, save_best_only=True)\n\u001b[0m\u001b[0;32m      4\u001b[0m \u001b[1;31m# Callback for early stopping\u001b[0m\u001b[1;33m\u001b[0m\u001b[1;33m\u001b[0m\u001b[0m\n\u001b[0;32m      5\u001b[0m \u001b[0mes_callback\u001b[0m \u001b[1;33m=\u001b[0m \u001b[0mtf\u001b[0m\u001b[1;33m.\u001b[0m\u001b[0mkeras\u001b[0m\u001b[1;33m.\u001b[0m\u001b[0mcallbacks\u001b[0m\u001b[1;33m.\u001b[0m\u001b[0mEarlyStopping\u001b[0m\u001b[1;33m(\u001b[0m\u001b[0mpatience\u001b[0m\u001b[1;33m=\u001b[0m\u001b[1;36m15\u001b[0m\u001b[1;33m,\u001b[0m \u001b[0mverbose\u001b[0m\u001b[1;33m=\u001b[0m\u001b[1;36m1\u001b[0m\u001b[1;33m)\u001b[0m\u001b[1;33m\u001b[0m\u001b[1;33m\u001b[0m\u001b[0m\n",
      "\u001b[1;31mNameError\u001b[0m: name 'model_save_path' is not defined"
     ]
    }
   ],
   "source": [
    "# Model checkpoint callback\n",
    "cp_callback = tf.keras.callbacks.ModelCheckpoint(\n",
    "    model_save_path, verbose=1, save_weights_only=False, save_best_only=True)\n",
    "# Callback for early stopping\n",
    "es_callback = tf.keras.callbacks.EarlyStopping(patience=15, verbose=1)"
   ]
  },
  {
   "cell_type": "code",
   "execution_count": null,
   "metadata": {
    "id": "8ssEmXpJcxSp"
   },
   "outputs": [],
   "source": [
    "def train_test_model(hparams):\n",
    "\n",
    "  model = tf.keras.models.Sequential([\n",
    "    tf.keras.layers.Input((21 * 2, )),\n",
    "    tf.keras.layers.Dropout(hparams[HP_DROPOUT]),\n",
    "    tf.keras.layers.Dense(hparams[HP_NUM_UNITS_1], activation='relu'),\n",
    "    tf.keras.layers.Dropout(hparams[HP_DROPOUT]),\n",
    "    tf.keras.layers.Dense(hparams[HP_NUM_UNITS_2], activation='relu'),\n",
    "    tf.keras.layers.Dropout(hparams[HP_DROPOUT]),\n",
    "    tf.keras.layers.Dense(hparams[HP_NUM_UNITS_3], activation='relu'),\n",
    "    tf.keras.layers.Dense(NUM_CLASSES, activation='softmax')\n",
    "])\n",
    "  \n",
    "  model.compile(\n",
    "    optimizer=hparams[HP_OPTIMIZER],\n",
    "    loss='sparse_categorical_crossentropy',\n",
    "    metrics=['accuracy']\n",
    ")\n",
    "  \n",
    "  cp_callback = tf.keras.callbacks.ModelCheckpoint(\n",
    "    model_save_path, verbose=1, save_weights_only=False, save_best_only=True)\n",
    "\n",
    "  model.fit(\n",
    "    X_train,\n",
    "    y_train,\n",
    "    epochs=50,\n",
    "    batch_size=64,\n",
    "    validation_data=(X_test, y_test),\n",
    "    callbacks=[\n",
    "               cp_callback,\n",
    "               es_callback,\n",
    "               ]\n",
    "  ) \n",
    "\n",
    "  # Load model with best accuracy\n",
    "  model = tf.keras.models.load_model(model_save_path)\n",
    "\n",
    "  _, accuracy = model.evaluate(X_test, y_test)\n",
    "  return accuracy\n",
    "\n",
    "def run(run_dir, hparams):\n",
    "  with tf.summary.create_file_writer(run_dir).as_default():\n",
    "    hp.hparams(hparams)  # record the values used in this trial\n",
    "    accuracy = train_test_model(hparams)\n",
    "    tf.summary.scalar(METRIC_ACCURACY, accuracy, step=1)"
   ]
  },
  {
   "cell_type": "code",
   "execution_count": null,
   "metadata": {
    "id": "5pO9W84DdHVL"
   },
   "outputs": [],
   "source": [
    "session_num = 0\n",
    "\n",
    "for num_units_1 in HP_NUM_UNITS_1.domain.values:\n",
    "  for num_units_2 in HP_NUM_UNITS_2.domain.values:\n",
    "    for num_units_3 in HP_NUM_UNITS_3.domain.values:\n",
    "      for dropout_rate in np.arange(HP_DROPOUT.domain.min_value, HP_DROPOUT.domain.max_value, 0.1):\n",
    "        for optimizer in HP_OPTIMIZER.domain.values:\n",
    "          hparams = {\n",
    "              HP_NUM_UNITS_1: num_units_1,\n",
    "              HP_NUM_UNITS_2: num_units_2,\n",
    "              HP_NUM_UNITS_3: num_units_3,\n",
    "              HP_DROPOUT: dropout_rate,\n",
    "              HP_OPTIMIZER: optimizer,\n",
    "          }\n",
    "          run_name = \"run-%d\" % session_num\n",
    "          print('--- Starting trial: %s' % run_name)\n",
    "          print({h.name: hparams[h] for h in hparams})\n",
    "          run('logs/hparam_tuning/' + run_name, hparams)\n",
    "          session_num += 1"
   ]
  },
  {
   "cell_type": "code",
   "execution_count": null,
   "metadata": {
    "id": "21knbMYldaUn"
   },
   "outputs": [],
   "source": [
    "# !ATTENTION! Works only in Colab\n",
    "# %tensorboard --logdir logs/hparam_tuning"
   ]
  },
  {
   "cell_type": "code",
   "execution_count": 17,
   "metadata": {
    "id": "J6_UH6jttBsD"
   },
   "outputs": [
    {
     "name": "stderr",
     "output_type": "stream",
     "text": [
      "'rm' is not recognized as an internal or external command,\n",
      "operable program or batch file.\n"
     ]
    }
   ],
   "source": [
    "!rm -rf logs"
   ]
  }
 ],
 "metadata": {
  "accelerator": "GPU",
  "colab": {
   "collapsed_sections": [],
   "name": "Keypoint_model_training.ipynb",
   "provenance": [],
   "toc_visible": true
  },
  "kernelspec": {
   "display_name": "Python 3 (ipykernel)",
   "language": "python",
   "name": "python3"
  },
  "language_info": {
   "codemirror_mode": {
    "name": "ipython",
    "version": 3
   },
   "file_extension": ".py",
   "mimetype": "text/x-python",
   "name": "python",
   "nbconvert_exporter": "python",
   "pygments_lexer": "ipython3",
   "version": "3.9.12"
  }
 },
 "nbformat": 4,
 "nbformat_minor": 4
}
